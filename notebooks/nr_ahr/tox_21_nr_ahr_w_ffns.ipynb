{
 "cells": [
  {
   "cell_type": "code",
   "execution_count": 1,
   "metadata": {},
   "outputs": [],
   "source": [
    "## IPython extension to reload modules before executing user code.\n",
    "# Autorelad is an IPython extension to reload modules before executing user code.\n",
    "%load_ext autoreload\n",
    "\n",
    "# Reload all modules (except those excluded by %aimport) every time before executing the Python code typed.\n",
    "%autoreload 2"
   ]
  },
  {
   "cell_type": "code",
   "execution_count": 2,
   "metadata": {},
   "outputs": [
    {
     "name": "stdout",
     "output_type": "stream",
     "text": [
      "/home/jovyan/projects/djoy4stem/tox_21_qsar/datasets\n"
     ]
    },
    {
     "name": "stderr",
     "output_type": "stream",
     "text": [
      "/home/jovyan/envs/nlp_metabolizer/lib/python3.7/site-packages/tqdm/auto.py:22: TqdmWarning: IProgress not found. Please update jupyter and ipywidgets. See https://ipywidgets.readthedocs.io/en/stable/user_install.html\n",
      "  from .autonotebook import tqdm as notebook_tqdm\n"
     ]
    }
   ],
   "source": [
    "import os\n",
    "import sys\n",
    "\n",
    "ROOT_DIR = os.sep.join(os.path.abspath('.').split(os.sep)[:-2])\n",
    "sys.path.insert(0, ROOT_DIR)\n",
    "DATASET_DIR = \"{}/datasets\".format(ROOT_DIR)\n",
    "print(DATASET_DIR)\n",
    "\n",
    "from datetime import datetime\n",
    "from matplotlib import pyplot as plt\n",
    "import numpy as np\n",
    "import pandas as pd\n",
    "import re\n",
    "from sklearn.preprocessing import StandardScaler, FunctionTransformer, scale\n",
    "\n",
    "import torch\n",
    "import torch.nn as nn\n",
    "import torch.nn.functional as F # contains functional interface of typical operations used for building nn's\n",
    "import torch.optim as optim     # contains optimizers e.g. Adam, SGD\n",
    "from torch.optim.lr_scheduler import ReduceLROnPlateau\n",
    "from torch.utils.data import DataLoader\n",
    "from torchmetrics import ConfusionMatrix, Accuracy\n",
    "from tqdm import tqdm\n",
    "\n",
    "from lib import utilities\n",
    "\n",
    "torch.set_printoptions(linewidth=120)"
   ]
  },
  {
   "cell_type": "code",
   "execution_count": 3,
   "metadata": {},
   "outputs": [],
   "source": [
    "class EarlyStopping():\n",
    "    \"\"\"\n",
    "    Early stopping to stop the training when the loss does not improve after\n",
    "    certain epochs. Code written by Sovit Ranjan RathSovit Ranjan Rath \n",
    "    https://colab.research.google.com/drive/1krRZ-VVfpXUsHk3JFCjBtYUiUOwL8vW0?usp=sharing&pli=1&authuser=1#scrollTo=TBuoZ1PgK01f\n",
    "    \"\"\"\n",
    "    def __init__(self, patience=5, min_delta=0):\n",
    "        \"\"\"\n",
    "        :param patience: how many epochs to wait before stopping when loss is\n",
    "               not improving\n",
    "        :param min_delta: minimum difference between new loss and old loss for\n",
    "               new loss to be considered as an improvement\n",
    "        \"\"\"\n",
    "        self.patience = patience\n",
    "        self.min_delta = min_delta\n",
    "        self.counter = 0\n",
    "        self.best_loss = None\n",
    "        self.early_stop = False\n",
    "\n",
    "    def __call__(self, val_loss):\n",
    "        if self.best_loss == None:\n",
    "            self.best_loss = val_loss\n",
    "        elif self.best_loss - val_loss > self.min_delta:\n",
    "            self.best_loss = val_loss\n",
    "            # reset counter if validation loss improves\n",
    "            self.counter = 0\n",
    "        elif self.best_loss - val_loss < self.min_delta:\n",
    "            self.counter += 1\n",
    "            print(f\"INFO: Early stopping counter {self.counter} of {self.patience}\")\n",
    "            if self.counter >= self.patience:\n",
    "                print('INFO: Early stopping')\n",
    "                self.early_stop = True\n",
    "\n",
    "def return_binary_class_labels(predictions, threshold, pos_label=1):\n",
    "    return (predictions>threshold).int()*pos_label\n",
    "        \n",
    "def loss_from_predictions (y_predicted, y_true, with_proba=True):\n",
    "    if with_proba:        \n",
    "        return torch.mean((y_true - y_predicted)**2).item()\n",
    "    else:\n",
    "        return torch.mean((y_true - torch.sigmoid(y_predicted))**2).item()\n",
    "\n",
    "def fit_model(model, criterion, optimizer, train_loader, pos_label=1, threshold=0.5):\n",
    "    \"\"\"\n",
    "    Fit the model, and compute loss and accuracy\n",
    "    \"\"\"\n",
    "    running_loss = 0\n",
    "    num_samples  = 0\n",
    "    correct_predictions = 0\n",
    "    model.train()\n",
    "    for fps, labels in train_loader:\n",
    "        # Training pass\n",
    "        # (1) Initialize the gradients, which will be recorded during the forward pass\n",
    "        optimizer.zero_grad()\n",
    "        # (2) Forward pass of the mini-batch\n",
    "        output = model(fps)\n",
    "#         print(\"Output size: {}\".format(output.shape))\n",
    "#         print(\"Labels size: {}\".format(labels.shape))\n",
    "        # (3) Computing the loss\n",
    "        loss = criterion(output, labels)\n",
    "        # (4) Computes the gradient of current tensor w.r.t. graph leaves.\n",
    "        loss.backward()\n",
    "        # (5) Optimize the weights\n",
    "        optimizer.step()\n",
    "        running_loss += loss.item()          \n",
    "        num_samples  += labels.size()[0]\n",
    "        predicted_labels = return_binary_class_labels(output, threshold, pos_label)\n",
    "\n",
    "        correct_predictions += (predicted_labels == labels).sum().item()         \n",
    "\n",
    "    train_loss     = running_loss/len(train_loader)            \n",
    "    train_accuracy = correct_predictions/num_samples\n",
    "        \n",
    "    return  train_loss, train_accuracy\n",
    "\n",
    "\n",
    "def validate_model(model, criterion, optimizer, validation_loader, pos_label=1, threshold=0.5):\n",
    "    \"\"\"\n",
    "    \"\"\"\n",
    "    running_loss = 0\n",
    "    num_val_samples  = 0\n",
    "    correct_predictions = 0\n",
    "    model.eval()\n",
    "    with torch.no_grad():\n",
    "        for fps, labels in validation_loader:\n",
    "            output = model(fps)\n",
    "#             loss = criterion(output, labels)\n",
    "#             running_loss += loss.item()            \n",
    "            loss = loss_from_predictions (output, labels, with_proba=model.squash_output)\n",
    "#             print(\"Loss: with criterion {} - With formula {}\".format(criterion(output, labels), loss))\n",
    "            running_loss += loss\n",
    "            num_val_samples  += labels.size()[0]\n",
    "            predicted_labels = return_binary_class_labels(output, threshold, pos_label)\n",
    "            correct_predictions += (predicted_labels == labels).sum().item()\n",
    "        \n",
    "        validation_loss     = running_loss/len(validation_loader)            \n",
    "        validation_accuracy = correct_predictions/num_val_samples   \n",
    "    return validation_loss, validation_accuracy\n",
    "\n",
    "def train_model(model, criterion, optimizer, n_epochs, train_loader, validation_loader, lr_scheduler=None, early_stopper=None, with_proba=True, pos_label=1, threshold=0.5):\n",
    "    \"\"\"\n",
    "    Fit and validate model\n",
    "    \"\"\"\n",
    "    train_losses, validation_losses, train_accuracies, validation_accuracies = [], [], [], []\n",
    "    for e in tqdm(range(n_epochs),desc='Training'):\n",
    "#         print(\"Epoch {} of {} epochs\".format(e+1, n_epochs))\n",
    "        train_loss, train_accuracy           = fit_model(model=model, criterion=criterion, optimizer=optimizer, train_loader=train_loader\n",
    "                                                         , pos_label=pos_label, threshold=threshold)\n",
    "        validation_loss, validation_accuracy = validate_model(model=model, criterion=criterion, optimizer=optimizer, validation_loader=validation_loader\n",
    "                                                              , pos_label=pos_label, threshold=threshold)\n",
    " \n",
    "        \n",
    "        train_losses.append(train_loss)\n",
    "        validation_losses.append(validation_loss)\n",
    "        train_accuracies.append(train_accuracy)\n",
    "        validation_accuracies.append(validation_accuracy)\n",
    "        \n",
    "        if lr_scheduler is not None:\n",
    "            lr_scheduler.step(validation_loss)\n",
    "            \n",
    "        if early_stopper is not None:\n",
    "            early_stopper(validation_loss)\n",
    "            if early_stopper.early_stop:\n",
    "                break\n",
    "        \n",
    "        if e%10 == 0:\n",
    "            print(\"Epoch: %3i Training loss: %0.2F Validation loss: %0.2F\"%(e,(train_loss), validation_loss))\n",
    "            print(\"Epoch: %3i Training accuracy: %0.2F Validation accuracy: %0.2F\"%(e,(train_accuracy), validation_accuracy))\n",
    "            \n",
    "\n",
    "    \n",
    "    return train_losses, validation_losses, train_accuracies, validation_accuracies\n"
   ]
  },
  {
   "cell_type": "code",
   "execution_count": 4,
   "metadata": {},
   "outputs": [],
   "source": [
    "class ActivityNet(nn.Module):\n",
    "    def __init__(self, n_inputs, hidden_size, dropout_rate, output_size, squash_output=True):\n",
    "        super(ActivityNet, self).__init__()\n",
    "        self.n_inputs = n_inputs\n",
    "        self.hidden_size = hidden_size\n",
    "        self.dropout_rate = dropout_rate\n",
    "        self.output_size = output_size\n",
    "        self.squash_output = squash_output\n",
    "        \n",
    "        self.input_layer = nn.Linear(n_inputs, hidden_size)\n",
    "        self.h1 = nn.Linear(hidden_size, hidden_size)\n",
    "        self.h2 = nn.Linear(hidden_size, hidden_size)\n",
    "        self.h3 = nn.Linear(hidden_size, hidden_size)\n",
    "#         self.h4 = nn.Linear(hidden_size, hidden_size)\n",
    "        self.output_layer = nn.Linear(hidden_size, output_size)\n",
    "             \n",
    "        ## Add normalization\n",
    "        ## In conclusion, Normalization layers in the model often helps to speed up and stabilize the learning process.\n",
    "        ## https://towardsdatascience.com/different-normalization-layers-in-deep-learning-1a7214ff71d6#:~:text=In%20conclusion%2C%20Normalization%20layers%20in,Batch%20Normalization%20could%20be%20used.\n",
    "        self.ln1 = nn.LayerNorm(hidden_size)\n",
    "        self.ln2 = nn.LayerNorm(hidden_size)\n",
    "        self.ln3 = nn.LayerNorm(hidden_size)\n",
    "#         self.ln4 = nn.LayerNorm(hidden_size)\n",
    "        \n",
    "        # Activation\n",
    "        self.hl_activation = nn.LeakyReLU()\n",
    "        if self.squash_output:\n",
    "            self.ol_activation = nn.Sigmoid()\n",
    "        \n",
    "        # Regularization\n",
    "        self.dropout1 = nn.Dropout(dropout_rate)\n",
    "        self.dropout2 = nn.Dropout(dropout_rate)\n",
    "        self.dropout3 = nn.Dropout(dropout_rate)\n",
    "#         self.dropout4 = nn.Dropout(dropout_rate)\n",
    "       \n",
    "    def forward(self, x):\n",
    "        out = self.input_layer(x)\n",
    "        out = self.ln1(out)\n",
    "        out = self.h1(out)\n",
    "        out = self.hl_activation(out)\n",
    "        out = self.dropout1(out)\n",
    "        out = self.ln2(out)\n",
    "        out = self.h2(out)\n",
    "        out = self.hl_activation(out)\n",
    "        out = self.dropout2(out)\n",
    "        out = self.ln3(out)\n",
    "        out = self.h3(out)\n",
    "        out = self.hl_activation(out)\n",
    "        out = self.dropout3(out)\n",
    "#         out = self.ln4(out)\n",
    "#         out = self.h4(out)\n",
    "#         out = self.hl_activation(out)\n",
    "#         out = self.dropout4(out)\n",
    "        out = self.output_layer(out)\n",
    "        if self.squash_output:\n",
    "            out = self.ol_activation(out)\n",
    "        \n",
    "        return out"
   ]
  },
  {
   "cell_type": "markdown",
   "metadata": {},
   "source": [
    "# Dataset preparation"
   ]
  },
  {
   "cell_type": "code",
   "execution_count": 5,
   "metadata": {},
   "outputs": [],
   "source": [
    "from rdkit import Chem\n",
    "from rdkit.Chem.rdMolDescriptors import GetMorganFingerprint\n",
    "from rdkit.Chem import PandasTools, MolFromSmiles, AllChem, MolFromSmiles, Draw, MolToInchiKey, MolToSmiles\n",
    "from rdkit import DataStructs\n",
    "from rdkit.SimDivFilters.rdSimDivPickers import MaxMinPicker"
   ]
  },
  {
   "cell_type": "code",
   "execution_count": 6,
   "metadata": {},
   "outputs": [
    {
     "data": {
      "text/plain": [
       "((1900, 3),\n",
       "           Compound                                             SMILES  \\\n",
       " 0  NCGC00013051-01                               CC(C)(C)c1cc(O)ccc1O   \n",
       " 1  NCGC00013051-05                               CC(C)(C)c1cc(O)ccc1O   \n",
       " 2  NCGC00013058-01   CN(C)c1ccc(cc1)C(c1ccccc1)=C1C=CC(C=C1)=[N+](C)C   \n",
       " 3  NCGC00013260-01  COC(=O)[C@H]1[C@@H](O)CC[C@H]2CN3CCc4c5ccccc5[...   \n",
       " 4  NCGC00013289-01                   OC(CCN1CCCCC1)(c1ccccc1)c1ccccc1   \n",
       " \n",
       "    activity  \n",
       " 0         1  \n",
       " 1         1  \n",
       " 2         1  \n",
       " 3         1  \n",
       " 4         1  )"
      ]
     },
     "execution_count": 6,
     "metadata": {},
     "output_type": "execute_result"
    }
   ],
   "source": [
    "compounds_df = pd.read_csv(\"{}/compounds/nr-ahr.tab\".format(ROOT_DIR), sep=\"\\t\")\n",
    "compounds_df.shape, compounds_df.head()"
   ]
  },
  {
   "cell_type": "code",
   "execution_count": 7,
   "metadata": {},
   "outputs": [
    {
     "data": {
      "text/plain": [
       "(0,\n",
       "           Compound                SMILES  activity  \\\n",
       " 0  NCGC00013051-01  CC(C)(C)c1cc(O)ccc1O         1   \n",
       " \n",
       "                                             Molecule  \n",
       " 0  <img data-content=\"rdkit/molecule\" src=\"data:i...  )"
      ]
     },
     "execution_count": 7,
     "metadata": {},
     "output_type": "execute_result"
    }
   ],
   "source": [
    "molecule_column = 'Molecule'\n",
    "smiles_column   = \"SMILES\"\n",
    "inchikey_column = \"Ambit_InchiKey\"\n",
    "target          = \"activity\"\n",
    "PandasTools.AddMoleculeColumnToFrame(compounds_df,'SMILES',molecule_column, includeFingerprints=True)\n",
    "compounds_df.Molecule.isna().sum(), compounds_df.iloc[:1,:]"
   ]
  },
  {
   "cell_type": "markdown",
   "metadata": {},
   "source": [
    "## Removing duplicates\n",
    "For several compounds (referrenced by Ambit_inchikeys) there are more than one rows. The target values will be averaged."
   ]
  },
  {
   "cell_type": "code",
   "execution_count": 8,
   "metadata": {},
   "outputs": [
    {
     "name": "stdout",
     "output_type": "stream",
     "text": [
      "Computing and storing the InChiKeys...\n"
     ]
    }
   ],
   "source": [
    "if not inchikey_column in compounds_df.columns:\n",
    "    print(\"Computing and storing the InChiKeys...\")\n",
    "    compounds_df[inchikey_column] = compounds_df[molecule_column].apply(lambda x: MolToInchiKey(x))"
   ]
  },
  {
   "cell_type": "code",
   "execution_count": 9,
   "metadata": {},
   "outputs": [
    {
     "name": "stdout",
     "output_type": "stream",
     "text": [
      "InchIKey CYMPUOGZUXAIMY-UHFFFAOYSA-N has 2 conflicting activity values. All associated samples will be removed.\n",
      "InchIKey GZPHSAQLYPIAIN-UHFFFAOYSA-N has 2 conflicting activity values. All associated samples will be removed.\n",
      "InchIKey JJYPMNFTHPTTDI-UHFFFAOYSA-N has 2 conflicting activity values. All associated samples will be removed.\n",
      "InchIKey MACXEFYJKXWDCK-UHFFFAOYSA-N has 2 conflicting activity values. All associated samples will be removed.\n",
      "InchIKey MVWVFYHBGMAFLY-UHFFFAOYSA-N has 2 conflicting activity values. All associated samples will be removed.\n",
      "InchIKey VMPITZXILSNTON-UHFFFAOYSA-N has 2 conflicting activity values. All associated samples will be removed.\n",
      "InchIKey WYWZRNAHINYAEF-UHFFFAOYSA-N has 2 conflicting activity values. All associated samples will be removed.\n"
     ]
    },
    {
     "data": {
      "text/plain": [
       "((1663, 5),\n",
       "             Compound                                        SMILES  activity  \\\n",
       " 390  NCGC00164574-01  COCCOc1cc2[n]c[n]c(Nc3cc(ccc3)C#C)c2cc1OCCOC         1   \n",
       " \n",
       "                                               Molecule  \\\n",
       " 390  <img data-content=\"rdkit/molecule\" src=\"data:i...   \n",
       " \n",
       "                   Ambit_InchiKey  \n",
       " 390  AAKJLRGGTJKAMG-UHFFFAOYSA-N  )"
      ]
     },
     "execution_count": 9,
     "metadata": {},
     "output_type": "execute_result"
    }
   ],
   "source": [
    "compounds_df = utilities.remove_conflicting_target_values(compounds_df, target, inchikey_column)\n",
    "compounds_df.shape, compounds_df.head(1)"
   ]
  },
  {
   "cell_type": "markdown",
   "metadata": {},
   "source": [
    "## MinMax Picking Train/Validate/Test Split\n",
    "Reference(s):\n",
    ">- **Picking Diverse Molecules Using Fingerprints (rdkit.SimDivFilters):** https://www.rdkit.org/docs/GettingStartedInPython.html\n",
    ">- **Squonk: RDKit MaxMin Picker:** https://squonk.it/docs/cells/RDKit%20MaxMin%20Picker/\n",
    ">- **Revisting the MaxMinPicker (2017)** http://rdkit.blogspot.com/2017/11/revisting-maxminpicker.html\n",
    ">- **RDKit Blog - MaxMinPicker**: https://github.com/greglandrum/rdkit_blog/blob/master/notebooks/MaxMinPickerRevisited.ipynb"
   ]
  },
  {
   "cell_type": "markdown",
   "metadata": {},
   "source": [
    "### MinMax Picking with Morgan Fingperprints"
   ]
  },
  {
   "cell_type": "code",
   "execution_count": 10,
   "metadata": {},
   "outputs": [
    {
     "name": "stdout",
     "output_type": "stream",
     "text": [
      "Computing and storing the InChiKeys...\n",
      "Splitting the dataset...\n",
      "1164 - 333 - 166\n",
      "Indices (training):1164 - [693, 10]\n",
      "Indices (validation):333 - [720]\n",
      "Indices (test):166 - [24]\n",
      "Train: (1164, 6) - Validate: (333, 6) - Test: (166, 6)\n",
      "Index(['Compound', 'SMILES', 'activity', 'Molecule', 'Ambit_InchiKey',\n",
      "       'InChIKey'],\n",
      "      dtype='object')\n",
      "CPU times: user 3.22 s, sys: 2.45 ms, total: 3.22 s\n",
      "Wall time: 3.34 s\n"
     ]
    }
   ],
   "source": [
    "%%time\n",
    "compounds_train, compounds_validation, compounds_test = utilities.min_max_train_validate_test_split_df(compounds_df, molecule_column\n",
    "                                                    , inchikey_column=None, train_valid_ratios=[0.7, 0.20], fp_type= \"morgan\"\n",
    "                                                    , fp_column=None, random_state=1, return_indices=False)"
   ]
  },
  {
   "cell_type": "markdown",
   "metadata": {},
   "source": [
    "## Prepare data\n",
    "We will compute hashed morgan fingerprints, perform featire selection, and scale the target values."
   ]
  },
  {
   "cell_type": "code",
   "execution_count": 11,
   "metadata": {},
   "outputs": [
    {
     "name": "stdout",
     "output_type": "stream",
     "text": [
      "(1164, 7)\n",
      "(166, 7)\n"
     ]
    },
    {
     "name": "stderr",
     "output_type": "stream",
     "text": [
      "/home/jovyan/envs/nlp_metabolizer/lib/python3.7/site-packages/ipykernel_launcher.py:1: SettingWithCopyWarning: \n",
      "A value is trying to be set on a copy of a slice from a DataFrame.\n",
      "Try using .loc[row_indexer,col_indexer] = value instead\n",
      "\n",
      "See the caveats in the documentation: https://pandas.pydata.org/pandas-docs/stable/user_guide/indexing.html#returning-a-view-versus-a-copy\n",
      "  \"\"\"Entry point for launching an IPython kernel.\n",
      "/home/jovyan/envs/nlp_metabolizer/lib/python3.7/site-packages/ipykernel_launcher.py:2: SettingWithCopyWarning: \n",
      "A value is trying to be set on a copy of a slice from a DataFrame.\n",
      "Try using .loc[row_indexer,col_indexer] = value instead\n",
      "\n",
      "See the caveats in the documentation: https://pandas.pydata.org/pandas-docs/stable/user_guide/indexing.html#returning-a-view-versus-a-copy\n",
      "  \n",
      "/home/jovyan/envs/nlp_metabolizer/lib/python3.7/site-packages/ipykernel_launcher.py:3: SettingWithCopyWarning: \n",
      "A value is trying to be set on a copy of a slice from a DataFrame.\n",
      "Try using .loc[row_indexer,col_indexer] = value instead\n",
      "\n",
      "See the caveats in the documentation: https://pandas.pydata.org/pandas-docs/stable/user_guide/indexing.html#returning-a-view-versus-a-copy\n",
      "  This is separate from the ipykernel package so we can avoid doing imports until\n"
     ]
    },
    {
     "data": {
      "text/html": [
       "<div>\n",
       "<style scoped>\n",
       "    .dataframe tbody tr th:only-of-type {\n",
       "        vertical-align: middle;\n",
       "    }\n",
       "\n",
       "    .dataframe tbody tr th {\n",
       "        vertical-align: top;\n",
       "    }\n",
       "\n",
       "    .dataframe thead th {\n",
       "        text-align: right;\n",
       "    }\n",
       "</style>\n",
       "<table border=\"1\" class=\"dataframe\">\n",
       "  <thead>\n",
       "    <tr style=\"text-align: right;\">\n",
       "      <th></th>\n",
       "      <th>Compound</th>\n",
       "      <th>SMILES</th>\n",
       "      <th>activity</th>\n",
       "      <th>Molecule</th>\n",
       "      <th>Ambit_InchiKey</th>\n",
       "      <th>InChIKey</th>\n",
       "      <th>FPs</th>\n",
       "    </tr>\n",
       "  </thead>\n",
       "  <tbody>\n",
       "    <tr>\n",
       "      <th>390</th>\n",
       "      <td>NCGC00164574-01</td>\n",
       "      <td>COCCOc1cc2[n]c[n]c(Nc3cc(ccc3)C#C)c2cc1OCCOC</td>\n",
       "      <td>1</td>\n",
       "      <td style=\"text-align: center;\"><img data-content=\"rdkit/molecule\" src=\"data:image/png;base64,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\" alt=\"Mol\"/></td>\n",
       "      <td>AAKJLRGGTJKAMG-UHFFFAOYSA-N</td>\n",
       "      <td>AAKJLRGGTJKAMG-UHFFFAOYSA-N</td>\n",
       "      <td>[0, 0, 0, 0, 0, 0, 0, 0, 0, 0, 0, 0, 0, 4, 0, ...</td>\n",
       "    </tr>\n",
       "  </tbody>\n",
       "</table>\n",
       "</div>"
      ],
      "text/plain": [
       "            Compound                                        SMILES  activity  \\\n",
       "390  NCGC00164574-01  COCCOc1cc2[n]c[n]c(Nc3cc(ccc3)C#C)c2cc1OCCOC         1   \n",
       "\n",
       "                                              Molecule  \\\n",
       "390  <img data-content=\"rdkit/molecule\" src=\"data:i...   \n",
       "\n",
       "                  Ambit_InchiKey                     InChIKey  \\\n",
       "390  AAKJLRGGTJKAMG-UHFFFAOYSA-N  AAKJLRGGTJKAMG-UHFFFAOYSA-N   \n",
       "\n",
       "                                                   FPs  \n",
       "390  [0, 0, 0, 0, 0, 0, 0, 0, 0, 0, 0, 0, 0, 4, 0, ...  "
      ]
     },
     "execution_count": 11,
     "metadata": {},
     "output_type": "execute_result"
    }
   ],
   "source": [
    "compounds_train[\"FPs\"]       = compounds_train[\"Molecule\"].apply(utilities.mol2fp)\n",
    "compounds_validation[\"FPs\"]  = compounds_validation[\"Molecule\"].apply(utilities.mol2fp)\n",
    "compounds_test[\"FPs\"]        = compounds_test[\"Molecule\"].apply(utilities.mol2fp)\n",
    "print(compounds_train.shape)\n",
    "print(compounds_test.shape)\n",
    "compounds_train.head(1)"
   ]
  },
  {
   "cell_type": "code",
   "execution_count": 12,
   "metadata": {},
   "outputs": [
    {
     "data": {
      "text/plain": [
       "((1164, 4096), (333, 4096), (166, 4096))"
      ]
     },
     "execution_count": 12,
     "metadata": {},
     "output_type": "execute_result"
    }
   ],
   "source": [
    "X_train       = np.stack(compounds_train.FPs.values)\n",
    "y_train       = compounds_train.activity.values.reshape((-1,1))\n",
    "X_validation  = np.stack(compounds_validation.FPs.values)\n",
    "y_validation  = compounds_validation.activity.values.reshape((-1,1))\n",
    "X_test        = np.stack(compounds_test.FPs.values)\n",
    "y_test        = compounds_test.activity.values.reshape((-1,1))\n",
    "X_train.shape, X_validation.shape, X_test.shape"
   ]
  },
  {
   "cell_type": "code",
   "execution_count": 13,
   "metadata": {},
   "outputs": [
    {
     "data": {
      "text/plain": [
       "<matplotlib.image.AxesImage at 0x7f1ff52a0f10>"
      ]
     },
     "execution_count": 13,
     "metadata": {},
     "output_type": "execute_result"
    },
    {
     "data": {
      "image/png": "[encoded data removed]",
      "text/plain": [
       "<Figure size 288x288 with 1 Axes>"
      ]
     },
     "metadata": {
      "needs_background": "light"
     },
     "output_type": "display_data"
    }
   ],
   "source": [
    "plt.matshow(X_train[0].reshape((64,-1)), )"
   ]
  },
  {
   "cell_type": "markdown",
   "metadata": {},
   "source": [
    "# Learning\n",
    "<strong>Loss functions</strong> \\\n",
    "We will use two different loss functions, namely, the BCE Loss and the BCEWithLogitsLoss functions. The difference between nn.BCEWithLogitsLoss and nn.BCELoss is that BCE with Logits loss adds the Sigmoid function into the loss function. With simple BCE Loss, you will have to add Sigmoid to the neural network, whereas with BCE With Logits Loss you will not. The BCEWithLogitsLoss is generally more stable and thus recommended.\n",
    "\n",
    ">- https://github.com/christianversloot/machine-learning-articles/blob/main/how-to-use-pytorch-loss-functions.md\n",
    ">- https://en.wikipedia.org/wiki/LogSumExp#log-sum-exp_trick_for_log-domain_calculations\n",
    "\n",
    "**Statistics report** \\\n",
    "We will compute the confusion matrix and accuracy on the train/validate/test sets.\n",
    ">- https://torchmetrics.readthedocs.io/en/stable/classification/confusion_matrix.html\n",
    ">- https://torchmetrics.readthedocs.io/en/stable/classification/accuracy.html\n",
    "\n",
    "**Early stopping and learning rate scheduler** <!-- No \\ symbol after, since there is no sentence right after-->\n",
    "\n",
    ">- https://debuggercafe.com/using-learning-rate-scheduler-and-early-stopping-with-pytorch/\n",
    ">- https://pythonguides.com/pytorch-early-stopping/\n",
    ">- https://pytorch.org/docs/stable/generated/torch.optim.lr_scheduler.ReduceLROnPlateau.html#torch.optim.lr_scheduler.ReduceLROnPlateau\n",
    "\n",
    "A helpful library for implementing LR and ES is torchsample, which can be found on [GitHub](https://github.com/ncullen93/torchsample). An example of how to use it is described [here](https://medium.com/analytics-vidhya/early-stopping-with-pytorch-to-restrain-your-model-from-overfitting-dce6de4081c5). But we will use a much simpler implementation."
   ]
  },
  {
   "cell_type": "code",
   "execution_count": 14,
   "metadata": {},
   "outputs": [
    {
     "name": "stdout",
     "output_type": "stream",
     "text": [
      "cuda:0\n"
     ]
    },
    {
     "data": {
      "text/plain": [
       "tensor([[0., 0., 0.,  ..., 0., 0., 0.],\n",
       "        [0., 0., 0.,  ..., 0., 0., 0.],\n",
       "        [0., 0., 0.,  ..., 0., 0., 0.],\n",
       "        ...,\n",
       "        [0., 0., 0.,  ..., 0., 0., 0.],\n",
       "        [0., 0., 0.,  ..., 0., 0., 0.],\n",
       "        [0., 0., 0.,  ..., 0., 0., 0.]], device='cuda:0')"
      ]
     },
     "execution_count": 14,
     "metadata": {},
     "output_type": "execute_result"
    }
   ],
   "source": [
    "# Let's get those arrays transfered to the GPU memory as tensors\n",
    "device = torch.device(\"cuda:0\" if torch.cuda.is_available() else \"cpu\")\n",
    "print(device)\n",
    "# device = 'cpu'\n",
    "\n",
    "X_train = torch.tensor(X_train, device=device).float()\n",
    "X_test = torch.tensor(X_test, device=device).float()\n",
    "X_validation = torch.tensor(X_validation, device=device).float()\n",
    "y_train = torch.tensor(y_train, device=device).float()\n",
    "y_test = torch.tensor(y_test, device=device).float()\n",
    "y_validation = torch.tensor(y_validation, device=device).float()\n",
    "X_train"
   ]
  },
  {
   "cell_type": "code",
   "execution_count": 15,
   "metadata": {},
   "outputs": [
    {
     "data": {
      "text/plain": [
       "torch.Size([1164, 1])"
      ]
     },
     "execution_count": 15,
     "metadata": {},
     "output_type": "execute_result"
    }
   ],
   "source": [
    "y_train.shape"
   ]
  },
  {
   "cell_type": "markdown",
   "metadata": {},
   "source": [
    "\\\n",
    "If you run into <em>\"RuntimeError: CUDA error: device-side assert triggered\"</em>, it is possible that the notebook  is running out of GPU memory. This can sometimes happen when you rerun some of the cells but the memory  is not properly released beforehand. \n",
    "1. Try using the CPU to see if the problem still exists\n",
    "2. Check your labels, i.e.: \"whether -1 exists in the labels of the training data\"\n",
    "\n",
    "References:\n",
    ">- https://pycad.co/runtimeerror-cuda-error-device-side-assert-triggered/\n",
    ">- https://github.com/deepset-ai/haystack/issues/1833\n",
    ">- https://clay-atlas.com/us/blog/2021/06/23/linux-en-machine-learning-pytorch-cuda-error-device-side-assert/"
   ]
  },
  {
   "cell_type": "code",
   "execution_count": 16,
   "metadata": {},
   "outputs": [
    {
     "data": {
      "text/plain": [
       "torch.Size([1164, 4096])"
      ]
     },
     "execution_count": 16,
     "metadata": {},
     "output_type": "execute_result"
    }
   ],
   "source": [
    "X_train.shape"
   ]
  },
  {
   "cell_type": "markdown",
   "metadata": {},
   "source": [
    "Pytorch work with datasets and dataloaders to feed the minibatches to the model during training, so we convert the data. It’s easy to create a dataset from the already created tensors. The batch size is set to 256 and the trainloader will shuffle the data when an epoch has been used."
   ]
  },
  {
   "cell_type": "code",
   "execution_count": 17,
   "metadata": {},
   "outputs": [
    {
     "data": {
      "text/plain": [
       "(torch.Size([1164, 4096]), 9.09375, 10)"
      ]
     },
     "execution_count": 17,
     "metadata": {},
     "output_type": "execute_result"
    }
   ],
   "source": [
    "from torch.utils.data import TensorDataset\n",
    "\n",
    "batch_size=128\n",
    "train_dataset = TensorDataset(X_train, y_train)\n",
    "validation_dataset = TensorDataset(X_validation, y_validation)\n",
    "train_loader = torch.utils.data.DataLoader(dataset=train_dataset,\n",
    "                                          batch_size=batch_size,\n",
    "                                          shuffle=True)\n",
    "validation_loader = torch.utils.data.DataLoader(dataset=validation_dataset,\n",
    "                                          batch_size=batch_size,\n",
    "                                          shuffle=False)\n",
    "X_train.shape, X_train.shape[0]/batch_size, len(train_loader)"
   ]
  },
  {
   "cell_type": "code",
   "execution_count": 18,
   "metadata": {},
   "outputs": [],
   "source": [
    "n_inputs      = X_train.size()[-1] # The input size should fit our fingerprint size\n",
    "hidden_size   = 1024   # The size of the hidden layer\n",
    "dropout_rate  = 0.70    # The dropout rate\n",
    "output_size   = 1        # This is just a single task, so this will be one\n",
    "learning_rate = 0.001  # The learning rate for the optimizer\n",
    "n_epochs      = 500\n",
    "lr_patience  = 30\n",
    "es_patience  = 50 # Make sure that the patience for early stopping is larger than the learning rate scheduler patience\n",
    "early_stopper = EarlyStopping(min_delta=0.00001, patience = es_patience)"
   ]
  },
  {
   "cell_type": "markdown",
   "metadata": {},
   "source": [
    "## Using BCELoss"
   ]
  },
  {
   "cell_type": "code",
   "execution_count": 19,
   "metadata": {},
   "outputs": [],
   "source": [
    "model        = ActivityNet(n_inputs, hidden_size, dropout_rate, output_size, squash_output=True).to(device=device) # Returns a Tensor with the specified device\n",
    "optimizer    = optim.SGD(model.parameters(), lr=learning_rate, momentum=0.9)\n",
    "criterion    = nn.BCELoss() # De facto for binary classification\n",
    "# A values above the threshold are classified into category pos_label (usually 1)\n",
    "# , and those below 0.5 are classified into value 0\n",
    "threshold    = torch.tensor([0.5]).to(device) \n",
    "\n",
    "# https://pytorch.org/docs/stable/generated/torch.optim.lr_scheduler.ReduceLROnPlateau.html#torch.optim.lr_scheduler.ReduceLROnPlateau\n",
    "lr_scheduler = ReduceLROnPlateau(optimizer, mode='min', factor=0.5\n",
    "                                 , patience=lr_patience # Number of epochs with no improvement after which learning rate will be reduced\n",
    "                                 , verbose=True\n",
    "                                 , threshold=0.0001\n",
    "                                 , threshold_mode='rel', cooldown=0, min_lr=learning_rate, eps=1e-08)"
   ]
  },
  {
   "cell_type": "code",
   "execution_count": 20,
   "metadata": {},
   "outputs": [
    {
     "name": "stderr",
     "output_type": "stream",
     "text": [
      "Training:   1%|          | 3/500 [00:00<01:00,  8.24it/s]"
     ]
    },
    {
     "name": "stdout",
     "output_type": "stream",
     "text": [
      "Epoch:   0 Training loss: 0.72 Validation loss: 0.24\n",
      "Epoch:   0 Training accuracy: 0.50 Validation accuracy: 0.65\n"
     ]
    },
    {
     "name": "stderr",
     "output_type": "stream",
     "text": [
      "Training:   2%|▏         | 8/500 [00:00<00:32, 15.06it/s]"
     ]
    },
    {
     "name": "stdout",
     "output_type": "stream",
     "text": [
      "INFO: Early stopping counter 1 of 50\n",
      "INFO: Early stopping counter 2 of 50\n",
      "INFO: Early stopping counter 3 of 50\n",
      "INFO: Early stopping counter 4 of 50\n",
      "INFO: Early stopping counter 5 of 50\n"
     ]
    },
    {
     "name": "stderr",
     "output_type": "stream",
     "text": [
      "Training:   3%|▎         | 14/500 [00:00<00:25, 18.93it/s]"
     ]
    },
    {
     "name": "stdout",
     "output_type": "stream",
     "text": [
      "INFO: Early stopping counter 6 of 50\n",
      "Epoch:  10 Training loss: 0.60 Validation loss: 0.18\n",
      "Epoch:  10 Training accuracy: 0.68 Validation accuracy: 0.77\n",
      "INFO: Early stopping counter 7 of 50\n",
      "INFO: Early stopping counter 8 of 50\n",
      "INFO: Early stopping counter 9 of 50\n",
      "INFO: Early stopping counter 10 of 50\n"
     ]
    },
    {
     "name": "stderr",
     "output_type": "stream",
     "text": [
      "Training:   4%|▍         | 20/500 [00:01<00:23, 20.56it/s]"
     ]
    },
    {
     "name": "stdout",
     "output_type": "stream",
     "text": [
      "INFO: Early stopping counter 11 of 50\n",
      "INFO: Early stopping counter 12 of 50\n",
      "INFO: Early stopping counter 13 of 50\n",
      "INFO: Early stopping counter 14 of 50\n",
      "INFO: Early stopping counter 15 of 50\n"
     ]
    },
    {
     "name": "stderr",
     "output_type": "stream",
     "text": [
      "Training:   5%|▍         | 23/500 [00:01<00:22, 21.02it/s]"
     ]
    },
    {
     "name": "stdout",
     "output_type": "stream",
     "text": [
      "INFO: Early stopping counter 16 of 50\n",
      "Epoch:  20 Training loss: 0.54 Validation loss: 0.19\n",
      "Epoch:  20 Training accuracy: 0.71 Validation accuracy: 0.78\n",
      "INFO: Early stopping counter 17 of 50\n",
      "INFO: Early stopping counter 18 of 50\n",
      "INFO: Early stopping counter 19 of 50\n",
      "INFO: Early stopping counter 20 of 50\n"
     ]
    },
    {
     "name": "stderr",
     "output_type": "stream",
     "text": [
      "Training:   6%|▌         | 29/500 [00:01<00:21, 21.54it/s]"
     ]
    },
    {
     "name": "stdout",
     "output_type": "stream",
     "text": [
      "INFO: Early stopping counter 21 of 50\n",
      "INFO: Early stopping counter 22 of 50\n",
      "INFO: Early stopping counter 23 of 50\n",
      "INFO: Early stopping counter 24 of 50\n",
      "INFO: Early stopping counter 25 of 50\n"
     ]
    },
    {
     "name": "stderr",
     "output_type": "stream",
     "text": [
      "Training:   6%|▋         | 32/500 [00:01<00:21, 21.69it/s]"
     ]
    },
    {
     "name": "stdout",
     "output_type": "stream",
     "text": [
      "INFO: Early stopping counter 26 of 50\n",
      "Epoch:  30 Training loss: 0.49 Validation loss: 0.17\n",
      "Epoch:  30 Training accuracy: 0.75 Validation accuracy: 0.80\n",
      "INFO: Early stopping counter 27 of 50\n",
      "INFO: Early stopping counter 28 of 50\n",
      "INFO: Early stopping counter 29 of 50\n"
     ]
    },
    {
     "name": "stderr",
     "output_type": "stream",
     "text": [
      "Training:   8%|▊         | 38/500 [00:02<00:24, 19.17it/s]"
     ]
    },
    {
     "name": "stdout",
     "output_type": "stream",
     "text": [
      "INFO: Early stopping counter 30 of 50\n",
      "INFO: Early stopping counter 1 of 50\n"
     ]
    },
    {
     "name": "stderr",
     "output_type": "stream",
     "text": [
      "Training:   8%|▊         | 40/500 [00:02<00:27, 16.89it/s]"
     ]
    },
    {
     "name": "stdout",
     "output_type": "stream",
     "text": [
      "INFO: Early stopping counter 2 of 50\n",
      "INFO: Early stopping counter 3 of 50\n",
      "INFO: Early stopping counter 4 of 50\n",
      "Epoch:  40 Training loss: 0.44 Validation loss: 0.16\n",
      "Epoch:  40 Training accuracy: 0.78 Validation accuracy: 0.81\n"
     ]
    },
    {
     "name": "stderr",
     "output_type": "stream",
     "text": [
      "Training:   9%|▉         | 46/500 [00:02<00:23, 19.22it/s]"
     ]
    },
    {
     "name": "stdout",
     "output_type": "stream",
     "text": [
      "INFO: Early stopping counter 1 of 50\n",
      "INFO: Early stopping counter 1 of 50\n"
     ]
    },
    {
     "name": "stderr",
     "output_type": "stream",
     "text": [
      "Training:  10%|█         | 52/500 [00:02<00:21, 20.59it/s]"
     ]
    },
    {
     "name": "stdout",
     "output_type": "stream",
     "text": [
      "INFO: Early stopping counter 1 of 50\n",
      "Epoch:  50 Training loss: 0.42 Validation loss: 0.15\n",
      "Epoch:  50 Training accuracy: 0.80 Validation accuracy: 0.81\n"
     ]
    },
    {
     "name": "stderr",
     "output_type": "stream",
     "text": [
      "Training:  11%|█         | 55/500 [00:02<00:21, 21.01it/s]"
     ]
    },
    {
     "name": "stdout",
     "output_type": "stream",
     "text": [
      "INFO: Early stopping counter 1 of 50\n",
      "INFO: Early stopping counter 1 of 50\n",
      "INFO: Early stopping counter 2 of 50\n"
     ]
    },
    {
     "name": "stderr",
     "output_type": "stream",
     "text": [
      "Training:  12%|█▏        | 61/500 [00:03<00:20, 21.37it/s]"
     ]
    },
    {
     "name": "stdout",
     "output_type": "stream",
     "text": [
      "INFO: Early stopping counter 3 of 50\n",
      "INFO: Early stopping counter 4 of 50\n",
      "INFO: Early stopping counter 1 of 50\n",
      "Epoch:  60 Training loss: 0.41 Validation loss: 0.14\n",
      "Epoch:  60 Training accuracy: 0.84 Validation accuracy: 0.82\n",
      "INFO: Early stopping counter 2 of 50\n"
     ]
    },
    {
     "name": "stderr",
     "output_type": "stream",
     "text": [
      "Training:  13%|█▎        | 67/500 [00:03<00:19, 21.69it/s]"
     ]
    },
    {
     "name": "stdout",
     "output_type": "stream",
     "text": [
      "INFO: Early stopping counter 1 of 50\n",
      "INFO: Early stopping counter 1 of 50\n",
      "INFO: Early stopping counter 1 of 50\n"
     ]
    },
    {
     "name": "stderr",
     "output_type": "stream",
     "text": [
      "Training:  15%|█▍        | 73/500 [00:03<00:19, 21.87it/s]"
     ]
    },
    {
     "name": "stdout",
     "output_type": "stream",
     "text": [
      "INFO: Early stopping counter 1 of 50\n",
      "Epoch:  70 Training loss: 0.36 Validation loss: 0.13\n",
      "Epoch:  70 Training accuracy: 0.85 Validation accuracy: 0.85\n",
      "INFO: Early stopping counter 2 of 50\n",
      "INFO: Early stopping counter 3 of 50\n",
      "INFO: Early stopping counter 4 of 50\n",
      "INFO: Early stopping counter 5 of 50\n"
     ]
    },
    {
     "name": "stderr",
     "output_type": "stream",
     "text": [
      "Training:  16%|█▌        | 79/500 [00:04<00:19, 21.99it/s]"
     ]
    },
    {
     "name": "stdout",
     "output_type": "stream",
     "text": [
      "INFO: Early stopping counter 1 of 50\n",
      "INFO: Early stopping counter 2 of 50\n",
      "INFO: Early stopping counter 1 of 50\n",
      "INFO: Early stopping counter 2 of 50\n",
      "Epoch:  80 Training loss: 0.28 Validation loss: 0.13\n",
      "Epoch:  80 Training accuracy: 0.88 Validation accuracy: 0.84\n"
     ]
    },
    {
     "name": "stderr",
     "output_type": "stream",
     "text": [
      "Training:  17%|█▋        | 85/500 [00:04<00:18, 22.05it/s]"
     ]
    },
    {
     "name": "stdout",
     "output_type": "stream",
     "text": [
      "INFO: Early stopping counter 3 of 50\n",
      "INFO: Early stopping counter 4 of 50\n",
      "INFO: Early stopping counter 5 of 50\n",
      "INFO: Early stopping counter 6 of 50\n",
      "INFO: Early stopping counter 7 of 50\n"
     ]
    },
    {
     "name": "stderr",
     "output_type": "stream",
     "text": [
      "Training:  18%|█▊        | 91/500 [00:04<00:18, 22.03it/s]"
     ]
    },
    {
     "name": "stdout",
     "output_type": "stream",
     "text": [
      "INFO: Early stopping counter 8 of 50\n",
      "INFO: Early stopping counter 9 of 50\n",
      "INFO: Early stopping counter 1 of 50\n",
      "INFO: Early stopping counter 2 of 50\n",
      "Epoch:  90 Training loss: 0.28 Validation loss: 0.11\n",
      "Epoch:  90 Training accuracy: 0.88 Validation accuracy: 0.86\n"
     ]
    },
    {
     "name": "stderr",
     "output_type": "stream",
     "text": [
      "Training:  19%|█▉        | 94/500 [00:04<00:18, 22.05it/s]"
     ]
    },
    {
     "name": "stdout",
     "output_type": "stream",
     "text": [
      "INFO: Early stopping counter 3 of 50\n",
      "INFO: Early stopping counter 1 of 50\n",
      "INFO: Early stopping counter 2 of 50\n",
      "INFO: Early stopping counter 3 of 50\n"
     ]
    },
    {
     "name": "stderr",
     "output_type": "stream",
     "text": [
      "Training:  20%|██        | 100/500 [00:04<00:18, 22.09it/s]"
     ]
    },
    {
     "name": "stdout",
     "output_type": "stream",
     "text": [
      "INFO: Early stopping counter 4 of 50\n",
      "INFO: Early stopping counter 5 of 50\n",
      "INFO: Early stopping counter 6 of 50\n",
      "INFO: Early stopping counter 7 of 50\n",
      "INFO: Early stopping counter 8 of 50\n",
      "Epoch: 100 Training loss: 0.23 Validation loss: 0.11\n",
      "Epoch: 100 Training accuracy: 0.91 Validation accuracy: 0.87\n"
     ]
    },
    {
     "name": "stderr",
     "output_type": "stream",
     "text": [
      "Training:  21%|██        | 106/500 [00:05<00:17, 21.99it/s]"
     ]
    },
    {
     "name": "stdout",
     "output_type": "stream",
     "text": [
      "INFO: Early stopping counter 9 of 50\n",
      "INFO: Early stopping counter 10 of 50\n",
      "INFO: Early stopping counter 11 of 50\n",
      "INFO: Early stopping counter 12 of 50\n",
      "INFO: Early stopping counter 13 of 50\n"
     ]
    },
    {
     "name": "stderr",
     "output_type": "stream",
     "text": [
      "Training:  22%|██▏       | 109/500 [00:05<00:17, 21.99it/s]"
     ]
    },
    {
     "name": "stdout",
     "output_type": "stream",
     "text": [
      "INFO: Early stopping counter 14 of 50\n",
      "INFO: Early stopping counter 15 of 50\n",
      "INFO: Early stopping counter 16 of 50\n",
      "INFO: Early stopping counter 17 of 50\n"
     ]
    },
    {
     "name": "stderr",
     "output_type": "stream",
     "text": [
      "Training:  23%|██▎       | 115/500 [00:05<00:18, 21.16it/s]"
     ]
    },
    {
     "name": "stdout",
     "output_type": "stream",
     "text": [
      "INFO: Early stopping counter 18 of 50\n",
      "Epoch: 110 Training loss: 0.14 Validation loss: 0.12\n",
      "Epoch: 110 Training accuracy: 0.94 Validation accuracy: 0.87\n",
      "INFO: Early stopping counter 19 of 50\n",
      "INFO: Early stopping counter 20 of 50\n",
      "INFO: Early stopping counter 21 of 50\n",
      "INFO: Early stopping counter 22 of 50\n"
     ]
    },
    {
     "name": "stderr",
     "output_type": "stream",
     "text": [
      "Training:  24%|██▎       | 118/500 [00:05<00:19, 19.37it/s]"
     ]
    },
    {
     "name": "stdout",
     "output_type": "stream",
     "text": [
      "INFO: Early stopping counter 23 of 50\n",
      "INFO: Early stopping counter 24 of 50\n",
      "INFO: Early stopping counter 25 of 50\n"
     ]
    },
    {
     "name": "stderr",
     "output_type": "stream",
     "text": [
      "Training:  24%|██▍       | 122/500 [00:06<00:21, 17.57it/s]"
     ]
    },
    {
     "name": "stdout",
     "output_type": "stream",
     "text": [
      "INFO: Early stopping counter 26 of 50\n",
      "INFO: Early stopping counter 27 of 50\n",
      "INFO: Early stopping counter 28 of 50\n",
      "Epoch: 120 Training loss: 0.15 Validation loss: 0.11\n",
      "Epoch: 120 Training accuracy: 0.95 Validation accuracy: 0.88\n",
      "INFO: Early stopping counter 29 of 50\n"
     ]
    },
    {
     "name": "stderr",
     "output_type": "stream",
     "text": [
      "Training:  25%|██▌       | 125/500 [00:06<00:19, 18.81it/s]"
     ]
    },
    {
     "name": "stdout",
     "output_type": "stream",
     "text": [
      "INFO: Early stopping counter 30 of 50\n",
      "INFO: Early stopping counter 31 of 50\n",
      "INFO: Early stopping counter 32 of 50\n",
      "INFO: Early stopping counter 33 of 50\n",
      "INFO: Early stopping counter 34 of 50\n"
     ]
    },
    {
     "name": "stderr",
     "output_type": "stream",
     "text": [
      "Training:  26%|██▌       | 131/500 [00:06<00:18, 20.39it/s]"
     ]
    },
    {
     "name": "stdout",
     "output_type": "stream",
     "text": [
      "INFO: Early stopping counter 35 of 50\n",
      "INFO: Early stopping counter 36 of 50\n",
      "INFO: Early stopping counter 37 of 50\n",
      "INFO: Early stopping counter 38 of 50\n",
      "Epoch: 130 Training loss: 0.15 Validation loss: 0.12\n",
      "Epoch: 130 Training accuracy: 0.94 Validation accuracy: 0.86\n",
      "INFO: Early stopping counter 39 of 50\n"
     ]
    },
    {
     "name": "stderr",
     "output_type": "stream",
     "text": [
      "Training:  27%|██▋       | 137/500 [00:06<00:17, 21.19it/s]"
     ]
    },
    {
     "name": "stdout",
     "output_type": "stream",
     "text": [
      "INFO: Early stopping counter 40 of 50\n",
      "INFO: Early stopping counter 41 of 50\n",
      "INFO: Early stopping counter 42 of 50\n",
      "INFO: Early stopping counter 43 of 50\n"
     ]
    },
    {
     "name": "stderr",
     "output_type": "stream",
     "text": [
      "Training:  28%|██▊       | 140/500 [00:06<00:16, 21.40it/s]"
     ]
    },
    {
     "name": "stdout",
     "output_type": "stream",
     "text": [
      "INFO: Early stopping counter 1 of 50\n",
      "INFO: Early stopping counter 2 of 50\n",
      "INFO: Early stopping counter 3 of 50\n",
      "INFO: Early stopping counter 4 of 50\n",
      "Epoch: 140 Training loss: 0.07 Validation loss: 0.13\n",
      "Epoch: 140 Training accuracy: 0.97 Validation accuracy: 0.86\n",
      "INFO: Early stopping counter 5 of 50\n"
     ]
    },
    {
     "name": "stderr",
     "output_type": "stream",
     "text": [
      "Training:  29%|██▉       | 146/500 [00:07<00:16, 21.65it/s]"
     ]
    },
    {
     "name": "stdout",
     "output_type": "stream",
     "text": [
      "INFO: Early stopping counter 6 of 50\n",
      "INFO: Early stopping counter 7 of 50\n",
      "INFO: Early stopping counter 8 of 50\n",
      "INFO: Early stopping counter 9 of 50\n",
      "INFO: Early stopping counter 10 of 50\n"
     ]
    },
    {
     "name": "stderr",
     "output_type": "stream",
     "text": [
      "Training:  30%|███       | 152/500 [00:07<00:15, 21.79it/s]"
     ]
    },
    {
     "name": "stdout",
     "output_type": "stream",
     "text": [
      "INFO: Early stopping counter 11 of 50\n",
      "INFO: Early stopping counter 12 of 50\n",
      "INFO: Early stopping counter 13 of 50\n",
      "INFO: Early stopping counter 14 of 50\n",
      "Epoch: 150 Training loss: 0.04 Validation loss: 0.12\n",
      "Epoch: 150 Training accuracy: 0.99 Validation accuracy: 0.87\n",
      "INFO: Early stopping counter 15 of 50\n"
     ]
    },
    {
     "name": "stderr",
     "output_type": "stream",
     "text": [
      "Training:  31%|███       | 155/500 [00:07<00:15, 21.82it/s]"
     ]
    },
    {
     "name": "stdout",
     "output_type": "stream",
     "text": [
      "INFO: Early stopping counter 16 of 50\n",
      "INFO: Early stopping counter 17 of 50\n",
      "INFO: Early stopping counter 18 of 50\n",
      "INFO: Early stopping counter 19 of 50\n",
      "INFO: Early stopping counter 20 of 50\n"
     ]
    },
    {
     "name": "stderr",
     "output_type": "stream",
     "text": [
      "Training:  32%|███▏      | 161/500 [00:07<00:15, 21.87it/s]"
     ]
    },
    {
     "name": "stdout",
     "output_type": "stream",
     "text": [
      "INFO: Early stopping counter 21 of 50\n",
      "INFO: Early stopping counter 22 of 50\n",
      "INFO: Early stopping counter 23 of 50\n",
      "INFO: Early stopping counter 24 of 50\n",
      "Epoch: 160 Training loss: 0.03 Validation loss: 0.15\n",
      "Epoch: 160 Training accuracy: 0.99 Validation accuracy: 0.84\n",
      "INFO: Early stopping counter 25 of 50\n"
     ]
    },
    {
     "name": "stderr",
     "output_type": "stream",
     "text": [
      "Training:  33%|███▎      | 167/500 [00:08<00:15, 21.89it/s]"
     ]
    },
    {
     "name": "stdout",
     "output_type": "stream",
     "text": [
      "INFO: Early stopping counter 26 of 50\n",
      "INFO: Early stopping counter 27 of 50\n",
      "INFO: Early stopping counter 28 of 50\n",
      "INFO: Early stopping counter 29 of 50\n",
      "INFO: Early stopping counter 30 of 50\n"
     ]
    },
    {
     "name": "stderr",
     "output_type": "stream",
     "text": [
      "Training:  34%|███▍      | 170/500 [00:08<00:15, 21.91it/s]"
     ]
    },
    {
     "name": "stdout",
     "output_type": "stream",
     "text": [
      "INFO: Early stopping counter 31 of 50\n",
      "INFO: Early stopping counter 32 of 50\n",
      "INFO: Early stopping counter 33 of 50\n",
      "INFO: Early stopping counter 34 of 50\n",
      "Epoch: 170 Training loss: 0.02 Validation loss: 0.11\n",
      "Epoch: 170 Training accuracy: 0.99 Validation accuracy: 0.88\n",
      "INFO: Early stopping counter 35 of 50\n"
     ]
    },
    {
     "name": "stderr",
     "output_type": "stream",
     "text": [
      "Training:  35%|███▌      | 176/500 [00:08<00:14, 21.90it/s]"
     ]
    },
    {
     "name": "stdout",
     "output_type": "stream",
     "text": [
      "INFO: Early stopping counter 36 of 50\n",
      "INFO: Early stopping counter 37 of 50\n",
      "INFO: Early stopping counter 38 of 50\n",
      "INFO: Early stopping counter 39 of 50\n",
      "INFO: Early stopping counter 40 of 50\n"
     ]
    },
    {
     "name": "stderr",
     "output_type": "stream",
     "text": [
      "Training:  36%|███▋      | 182/500 [00:08<00:14, 21.91it/s]"
     ]
    },
    {
     "name": "stdout",
     "output_type": "stream",
     "text": [
      "INFO: Early stopping counter 41 of 50\n",
      "INFO: Early stopping counter 42 of 50\n",
      "INFO: Early stopping counter 43 of 50\n",
      "INFO: Early stopping counter 44 of 50\n",
      "Epoch: 180 Training loss: 0.03 Validation loss: 0.13\n",
      "Epoch: 180 Training accuracy: 0.99 Validation accuracy: 0.86\n",
      "INFO: Early stopping counter 45 of 50\n"
     ]
    },
    {
     "name": "stderr",
     "output_type": "stream",
     "text": [
      "Training:  37%|███▋      | 186/500 [00:09<00:15, 20.41it/s]"
     ]
    },
    {
     "name": "stdout",
     "output_type": "stream",
     "text": [
      "INFO: Early stopping counter 46 of 50\n",
      "INFO: Early stopping counter 47 of 50\n",
      "INFO: Early stopping counter 48 of 50\n",
      "INFO: Early stopping counter 49 of 50\n",
      "INFO: Early stopping counter 50 of 50\n",
      "INFO: Early stopping\n",
      "\n",
      "Saving loss and accuracy plots...\n"
     ]
    },
    {
     "name": "stderr",
     "output_type": "stream",
     "text": [
      "\n"
     ]
    },
    {
     "data": {
      "image/png": "[encoded data removed]",
      "text/plain": [
       "<Figure size 720x504 with 1 Axes>"
      ]
     },
     "metadata": {
      "needs_background": "light"
     },
     "output_type": "display_data"
    },
    {
     "data": {
      "image/png": "[encoded data removed]",
      "text/plain": [
       "<Figure size 720x504 with 1 Axes>"
      ]
     },
     "metadata": {
      "needs_background": "light"
     },
     "output_type": "display_data"
    },
    {
     "name": "stdout",
     "output_type": "stream",
     "text": [
      "CPU times: user 9.14 s, sys: 377 ms, total: 9.52 s\n",
      "Wall time: 9.72 s\n"
     ]
    }
   ],
   "source": [
    "%%time\n",
    "train_losses, validation_losses, train_accuracies, validation_accuracies = train_model(model=model, criterion=criterion, optimizer=optimizer, n_epochs=n_epochs\n",
    "                                                                                     , train_loader=train_loader, validation_loader=validation_loader\n",
    "                                                                                     , lr_scheduler=lr_scheduler, early_stopper=early_stopper\n",
    "                                                                                     , pos_label=1, threshold=threshold)\n",
    "\n",
    "print('\\nSaving loss and accuracy plots...')\n",
    "# accuracy plots\n",
    "plt.figure(figsize=(10, 7))\n",
    "plt.plot(train_accuracies, color='green', label='train accuracy')\n",
    "plt.plot(validation_accuracies, color='blue', label='validataion accuracy')\n",
    "plt.xlabel('Epochs')\n",
    "plt.ylabel('Accuracy')\n",
    "plt.legend()\n",
    "plt.savefig(\"{}/figures/Accuracies by epoch\".format(ROOT_DIR))\n",
    "plt.show()\n",
    "\n",
    "# loss plots\n",
    "plt.figure(figsize=(10, 7))\n",
    "plt.plot(train_losses, color='orange', label='train loss')\n",
    "plt.plot(validation_losses, color='red', label='validataion loss')\n",
    "plt.xlabel('Epochs')\n",
    "plt.ylabel('Loss')\n",
    "plt.legend()\n",
    "plt.savefig(\"{}/figures/Losses by epoch\".format(ROOT_DIR))\n",
    "plt.show()"
   ]
  },
  {
   "cell_type": "code",
   "execution_count": 21,
   "metadata": {},
   "outputs": [
    {
     "name": "stdout",
     "output_type": "stream",
     "text": [
      "y_validation: torch.Size([333, 1]) - y_pred_validation: torch.Size([333, 1])\n"
     ]
    },
    {
     "data": {
      "text/plain": [
       "('Train: 0.18601283431053162',\n",
       " 'Validation: 0.18601283431053162',\n",
       " 'Test: 0.20600226521492004')"
      ]
     },
     "execution_count": 21,
     "metadata": {},
     "output_type": "execute_result"
    }
   ],
   "source": [
    "model.eval() #Swith to evaluation mode, where dropout is switched off\n",
    "y_pred_train = model(X_train)\n",
    "y_pred_validation = model(X_validation)\n",
    "y_pred_test = model(X_test)\n",
    "print(\"y_validation: {} - y_pred_validation: {}\".format(y_validation.shape, y_pred_validation.shape))\n",
    "# print(y_validation)\n",
    "# criterion(y_pred_train, y_train), criterion(y_pred_validation, y_validation).item(), criterion(y_pred_test, y_test).item()\n",
    "\"Train: {}\".format(torch.mean(( y_validation - torch.sigmoid(y_pred_validation) )**2).item()), \"Validation: {}\".format(torch.mean(( y_validation - torch.sigmoid(y_pred_validation) )**2).item()), \"Test: {}\".format(torch.mean(( y_test - torch.sigmoid(y_pred_test) )**2).item())\n"
   ]
  },
  {
   "cell_type": "code",
   "execution_count": 22,
   "metadata": {},
   "outputs": [
    {
     "name": "stdout",
     "output_type": "stream",
     "text": [
      "tensor([1.0000e+00, 2.7249e-11, 5.6795e-07,  ..., 1.0000e+00, 1.0000e+00, 3.2452e-12])\n",
      "tensor([1., 0., 0.,  ..., 1., 1., 0.])\n",
      "validation_results: torch.Size([333, 1])\n"
     ]
    }
   ],
   "source": [
    "print(y_pred_train.reshape(-1).detach().to('cpu'))\n",
    "print(y_train.reshape(-1).detach().to('cpu'))\n",
    "\n",
    "pos_label = 1\n",
    "\n",
    "train_results      = return_binary_class_labels(predictions=y_pred_train, threshold=threshold, pos_label=pos_label)\n",
    "validation_results = return_binary_class_labels(predictions=y_pred_validation, threshold=threshold, pos_label=pos_label)\n",
    "test_results       = return_binary_class_labels(predictions=y_pred_test, threshold=threshold, pos_label=pos_label)\n",
    "\n",
    "print(\"validation_results: {}\".format(validation_results.shape))"
   ]
  },
  {
   "cell_type": "markdown",
   "metadata": {},
   "source": [
    "#### Compute confusion matrix and accuray"
   ]
  },
  {
   "cell_type": "code",
   "execution_count": 23,
   "metadata": {},
   "outputs": [
    {
     "data": {
      "text/plain": [
       "('Train',\n",
       " tensor([[664,   1],\n",
       "         [  0, 499]]),\n",
       " 'Validation',\n",
       " tensor([[132,  24],\n",
       "         [ 18, 159]]),\n",
       " 'Test',\n",
       " tensor([[71, 17],\n",
       "         [11, 67]]),\n",
       " 'Train: 0.999 - Validation: 0.874 - Test: 0.831')"
      ]
     },
     "execution_count": 23,
     "metadata": {},
     "output_type": "execute_result"
    }
   ],
   "source": [
    "confmat = ConfusionMatrix(num_classes=2)\n",
    "cmat_train      = confmat(train_results.to('cpu'), y_train.int().to('cpu'))\n",
    "cmat_validation = confmat(validation_results.to('cpu'), y_validation.int().to('cpu'))\n",
    "cmat_test       = confmat(test_results.to('cpu'), y_test.int().to('cpu'))\n",
    "accuracy = Accuracy(num_classes=2)\n",
    "accuracy_train      = accuracy(train_results.int().to('cpu'), y_train.int().to('cpu'))\n",
    "accuracy_validation = accuracy(validation_results.int().to('cpu'), y_validation.int().to('cpu'))\n",
    "accuracy_test       = accuracy(test_results.int().to('cpu'), y_test.int().to('cpu'))\n",
    "\n",
    "\n",
    "# \"Train: {}\".format(cmat_train), \"Validation: {}\".format(cmat_validation), \"Test: {}\".format(cmat_test)\n",
    "\"Train\", cmat_train, \"Validation\", cmat_validation, \"Test\", cmat_test, \"Train: {} - Validation: {} - Test: {}\".format(round(float(accuracy_train), 3)\n",
    "                                               , round(float(accuracy_validation), 3)\n",
    "                                               ,  round(float(accuracy_test), 3))"
   ]
  },
  {
   "cell_type": "markdown",
   "metadata": {},
   "source": [
    "## Using BCEWithLogitsLoss\n",
    "Computing the binary loss by providing the logits, and not the class probabilities is usually preferred due to numerical stability.\\\n",
    "Using BCEWithLogitsLoss: BCEWithLogitsLoss takes predictions that are raw-score logits (those produced by your final layer assuming it not transformed using an activation function values run that run from -inf to inf) and compares them with ground-truth labels that are zeros and ones (or more generally, with ground-truth labels that are probabilities between zero and one). Thus, if we use BCEWithLogitsLoss, we are not converting the predictions (that are logits) into zeros and ones before passing them to BCEWithLogitsLoss.\\\n",
    "BCEWithLogitsLoss return logits during inference, the values of the logits might be harder to interpret, so you need to apply a sigmoid to get the probabilities. If you don't need the probabilities to get the predictions from logits, you could apply a threshold (e.g. out > 0.0) for a binary and multi-label classification with CrossEntropyLoss you could apply argmax(output, dim=1).\n",
    "\n",
    "References:\n",
    ">- https://androidkt.com/difference-between-bceloss-and-bcewithlogitsloss-in-pytorch/\n",
    ">- https://en.wikipedia.org/wiki/LogSumExp#log-sum-exp_trick_for_log-domain_calculations"
   ]
  },
  {
   "cell_type": "code",
   "execution_count": 23,
   "metadata": {},
   "outputs": [
    {
     "data": {
      "text/plain": [
       "tensor([[0., 0., 0.,  ..., 0., 0., 0.],\n",
       "        [0., 0., 0.,  ..., 0., 0., 0.],\n",
       "        [0., 0., 0.,  ..., 0., 0., 0.],\n",
       "        ...,\n",
       "        [0., 0., 0.,  ..., 0., 0., 0.],\n",
       "        [0., 0., 0.,  ..., 0., 0., 0.],\n",
       "        [0., 0., 0.,  ..., 0., 0., 0.]], device='cuda:0')"
      ]
     },
     "execution_count": 23,
     "metadata": {},
     "output_type": "execute_result"
    }
   ],
   "source": [
    "X_train       = np.stack(compounds_train.FPs.values)\n",
    "y_train       = compounds_train.activity.values.reshape((-1,1))\n",
    "X_validation  = np.stack(compounds_validation.FPs.values)\n",
    "y_validation  = compounds_validation.activity.values.reshape((-1,1))\n",
    "X_test        = np.stack(compounds_test.FPs.values)\n",
    "y_test        = compounds_test.activity.values.reshape((-1,1))\n",
    "X_train.shape, X_validation.shape, X_test.shape\n",
    "\n",
    "X_train = torch.tensor(X_train, device=device).float()\n",
    "X_test = torch.tensor(X_test, device=device).float()\n",
    "X_validation = torch.tensor(X_validation, device=device).float()\n",
    "y_train = torch.tensor(y_train, device=device).float()\n",
    "y_test = torch.tensor(y_test, device=device).float()\n",
    "y_validation = torch.tensor(y_validation, device=device).float()\n",
    "X_train"
   ]
  },
  {
   "cell_type": "code",
   "execution_count": 24,
   "metadata": {},
   "outputs": [],
   "source": [
    "criterion = nn.BCEWithLogitsLoss() # De facto for binary classification\n",
    "model_bcewl = ActivityNet(n_inputs, hidden_size, dropout_rate, output_size, squash_output=False).to(device=device) # Returns a Tensor with the specified device\n",
    "optimizer = optim.SGD(model_bcewl.parameters(), lr=learning_rate, momentum=0.9)\n",
    "threshold    = torch.tensor([0.0]).to(device)\n",
    "early_stopper = EarlyStopping(min_delta=0.00001, patience = es_patience)\n",
    "lr_scheduler = ReduceLROnPlateau(optimizer, mode='min', factor=0.5\n",
    "                                 , patience=lr_patience # Number of epochs with no improvement after which learning rate will be reduced\n",
    "                                 , verbose=True\n",
    "                                 , threshold=0.0001\n",
    "                                 , threshold_mode='rel', cooldown=0, min_lr=1e-6, eps=1e-08)"
   ]
  },
  {
   "cell_type": "code",
   "execution_count": 25,
   "metadata": {},
   "outputs": [
    {
     "name": "stderr",
     "output_type": "stream",
     "text": [
      "Training:   1%|          | 3/500 [00:00<00:22, 21.98it/s]"
     ]
    },
    {
     "name": "stdout",
     "output_type": "stream",
     "text": [
      "Epoch:   0 Training loss: 0.75 Validation loss: 0.24\n",
      "Epoch:   0 Training accuracy: 0.46 Validation accuracy: 0.52\n",
      "INFO: Early stopping counter 1 of 50\n"
     ]
    },
    {
     "name": "stderr",
     "output_type": "stream",
     "text": [
      "Training:   2%|▏         | 9/500 [00:00<00:22, 21.98it/s]"
     ]
    },
    {
     "name": "stdout",
     "output_type": "stream",
     "text": [
      "INFO: Early stopping counter 2 of 50\n",
      "INFO: Early stopping counter 1 of 50\n",
      "INFO: Early stopping counter 2 of 50\n",
      "INFO: Early stopping counter 3 of 50\n"
     ]
    },
    {
     "name": "stderr",
     "output_type": "stream",
     "text": [
      "Training:   3%|▎         | 15/500 [00:00<00:21, 22.06it/s]"
     ]
    },
    {
     "name": "stdout",
     "output_type": "stream",
     "text": [
      "INFO: Early stopping counter 4 of 50\n",
      "Epoch:  10 Training loss: 0.60 Validation loss: 0.19\n",
      "Epoch:  10 Training accuracy: 0.68 Validation accuracy: 0.77\n",
      "INFO: Early stopping counter 5 of 50\n",
      "INFO: Early stopping counter 6 of 50\n",
      "INFO: Early stopping counter 7 of 50\n",
      "INFO: Early stopping counter 8 of 50\n"
     ]
    },
    {
     "name": "stderr",
     "output_type": "stream",
     "text": [
      "Training:   4%|▎         | 18/500 [00:00<00:21, 22.13it/s]"
     ]
    },
    {
     "name": "stdout",
     "output_type": "stream",
     "text": [
      "INFO: Early stopping counter 9 of 50\n",
      "INFO: Early stopping counter 10 of 50\n",
      "INFO: Early stopping counter 11 of 50\n",
      "INFO: Early stopping counter 12 of 50\n",
      "INFO: Early stopping counter 13 of 50\n"
     ]
    },
    {
     "name": "stderr",
     "output_type": "stream",
     "text": [
      "Training:   5%|▍         | 24/500 [00:01<00:21, 22.19it/s]"
     ]
    },
    {
     "name": "stdout",
     "output_type": "stream",
     "text": [
      "INFO: Early stopping counter 14 of 50\n",
      "Epoch:  20 Training loss: 0.52 Validation loss: 0.18\n",
      "Epoch:  20 Training accuracy: 0.73 Validation accuracy: 0.77\n",
      "INFO: Early stopping counter 15 of 50\n",
      "INFO: Early stopping counter 16 of 50\n",
      "INFO: Early stopping counter 17 of 50\n",
      "INFO: Early stopping counter 18 of 50\n"
     ]
    },
    {
     "name": "stderr",
     "output_type": "stream",
     "text": [
      "Training:   6%|▌         | 30/500 [00:01<00:21, 22.11it/s]"
     ]
    },
    {
     "name": "stdout",
     "output_type": "stream",
     "text": [
      "INFO: Early stopping counter 19 of 50\n",
      "INFO: Early stopping counter 20 of 50\n",
      "INFO: Early stopping counter 21 of 50\n",
      "INFO: Early stopping counter 22 of 50\n",
      "INFO: Early stopping counter 23 of 50\n"
     ]
    },
    {
     "name": "stderr",
     "output_type": "stream",
     "text": [
      "Training:   7%|▋         | 33/500 [00:01<00:21, 22.11it/s]"
     ]
    },
    {
     "name": "stdout",
     "output_type": "stream",
     "text": [
      "INFO: Early stopping counter 24 of 50\n",
      "Epoch:  30 Training loss: 0.52 Validation loss: 0.17\n",
      "Epoch:  30 Training accuracy: 0.74 Validation accuracy: 0.79\n",
      "INFO: Early stopping counter 25 of 50\n",
      "INFO: Early stopping counter 26 of 50\n"
     ]
    },
    {
     "name": "stderr",
     "output_type": "stream",
     "text": [
      "Training:   8%|▊         | 39/500 [00:01<00:20, 22.21it/s]"
     ]
    },
    {
     "name": "stdout",
     "output_type": "stream",
     "text": [
      "INFO: Early stopping counter 1 of 50\n",
      "INFO: Early stopping counter 2 of 50\n",
      "INFO: Early stopping counter 3 of 50\n",
      "INFO: Early stopping counter 4 of 50\n",
      "INFO: Early stopping counter 5 of 50\n"
     ]
    },
    {
     "name": "stderr",
     "output_type": "stream",
     "text": [
      "Training:   9%|▉         | 45/500 [00:02<00:20, 21.75it/s]"
     ]
    },
    {
     "name": "stdout",
     "output_type": "stream",
     "text": [
      "Epoch:  40 Training loss: 0.48 Validation loss: 0.15\n",
      "Epoch:  40 Training accuracy: 0.78 Validation accuracy: 0.82\n",
      "INFO: Early stopping counter 1 of 50\n",
      "INFO: Early stopping counter 2 of 50\n",
      "INFO: Early stopping counter 1 of 50\n"
     ]
    },
    {
     "name": "stderr",
     "output_type": "stream",
     "text": [
      "Training:  10%|█         | 51/500 [00:02<00:24, 18.34it/s]"
     ]
    },
    {
     "name": "stdout",
     "output_type": "stream",
     "text": [
      "INFO: Early stopping counter 1 of 50\n",
      "INFO: Early stopping counter 1 of 50\n",
      "Epoch:  50 Training loss: 0.42 Validation loss: 0.14\n",
      "Epoch:  50 Training accuracy: 0.81 Validation accuracy: 0.83\n"
     ]
    },
    {
     "name": "stderr",
     "output_type": "stream",
     "text": [
      "Training:  11%|█▏        | 57/500 [00:02<00:22, 20.11it/s]"
     ]
    },
    {
     "name": "stdout",
     "output_type": "stream",
     "text": [
      "INFO: Early stopping counter 1 of 50\n",
      "INFO: Early stopping counter 2 of 50\n",
      "INFO: Early stopping counter 1 of 50\n"
     ]
    },
    {
     "name": "stderr",
     "output_type": "stream",
     "text": [
      "Training:  13%|█▎        | 63/500 [00:02<00:20, 21.16it/s]"
     ]
    },
    {
     "name": "stdout",
     "output_type": "stream",
     "text": [
      "INFO: Early stopping counter 1 of 50\n",
      "INFO: Early stopping counter 2 of 50\n",
      "INFO: Early stopping counter 3 of 50\n",
      "Epoch:  60 Training loss: 0.48 Validation loss: 0.13\n",
      "Epoch:  60 Training accuracy: 0.81 Validation accuracy: 0.84\n"
     ]
    },
    {
     "name": "stderr",
     "output_type": "stream",
     "text": [
      "Training:  13%|█▎        | 66/500 [00:03<00:20, 21.46it/s]"
     ]
    },
    {
     "name": "stdout",
     "output_type": "stream",
     "text": [
      "INFO: Early stopping counter 1 of 50\n",
      "INFO: Early stopping counter 2 of 50\n",
      "INFO: Early stopping counter 3 of 50\n",
      "INFO: Early stopping counter 4 of 50\n",
      "INFO: Early stopping counter 5 of 50\n"
     ]
    },
    {
     "name": "stderr",
     "output_type": "stream",
     "text": [
      "Training:  14%|█▍        | 72/500 [00:03<00:19, 21.86it/s]"
     ]
    },
    {
     "name": "stdout",
     "output_type": "stream",
     "text": [
      "INFO: Early stopping counter 1 of 50\n",
      "Epoch:  70 Training loss: 0.34 Validation loss: 0.10\n",
      "Epoch:  70 Training accuracy: 0.86 Validation accuracy: 0.87\n",
      "INFO: Early stopping counter 1 of 50\n",
      "INFO: Early stopping counter 2 of 50\n"
     ]
    },
    {
     "name": "stderr",
     "output_type": "stream",
     "text": [
      "Training:  16%|█▌        | 78/500 [00:03<00:19, 22.04it/s]"
     ]
    },
    {
     "name": "stdout",
     "output_type": "stream",
     "text": [
      "INFO: Early stopping counter 1 of 50\n",
      "INFO: Early stopping counter 2 of 50\n",
      "INFO: Early stopping counter 3 of 50\n",
      "INFO: Early stopping counter 1 of 50\n"
     ]
    },
    {
     "name": "stderr",
     "output_type": "stream",
     "text": [
      "Training:  17%|█▋        | 84/500 [00:03<00:18, 22.13it/s]"
     ]
    },
    {
     "name": "stdout",
     "output_type": "stream",
     "text": [
      "INFO: Early stopping counter 2 of 50\n",
      "INFO: Early stopping counter 3 of 50\n",
      "Epoch:  80 Training loss: 0.30 Validation loss: 0.10\n",
      "Epoch:  80 Training accuracy: 0.87 Validation accuracy: 0.87\n",
      "INFO: Early stopping counter 4 of 50\n",
      "INFO: Early stopping counter 5 of 50\n",
      "INFO: Early stopping counter 6 of 50\n"
     ]
    },
    {
     "name": "stderr",
     "output_type": "stream",
     "text": [
      "Training:  17%|█▋        | 87/500 [00:04<00:18, 22.15it/s]"
     ]
    },
    {
     "name": "stdout",
     "output_type": "stream",
     "text": [
      "INFO: Early stopping counter 7 of 50\n",
      "INFO: Early stopping counter 8 of 50\n",
      "INFO: Early stopping counter 9 of 50\n",
      "INFO: Early stopping counter 10 of 50\n",
      "INFO: Early stopping counter 11 of 50\n"
     ]
    },
    {
     "name": "stderr",
     "output_type": "stream",
     "text": [
      "Training:  19%|█▊        | 93/500 [00:04<00:18, 22.15it/s]"
     ]
    },
    {
     "name": "stdout",
     "output_type": "stream",
     "text": [
      "INFO: Early stopping counter 12 of 50\n",
      "INFO: Early stopping counter 13 of 50\n",
      "Epoch:  90 Training loss: 0.27 Validation loss: 0.12\n",
      "Epoch:  90 Training accuracy: 0.88 Validation accuracy: 0.85\n",
      "INFO: Early stopping counter 14 of 50\n",
      "INFO: Early stopping counter 15 of 50\n",
      "INFO: Early stopping counter 16 of 50\n"
     ]
    },
    {
     "name": "stderr",
     "output_type": "stream",
     "text": [
      "Training:  20%|█▉        | 99/500 [00:04<00:18, 21.96it/s]"
     ]
    },
    {
     "name": "stdout",
     "output_type": "stream",
     "text": [
      "INFO: Early stopping counter 17 of 50\n",
      "INFO: Early stopping counter 18 of 50\n",
      "INFO: Early stopping counter 19 of 50\n",
      "INFO: Early stopping counter 20 of 50\n",
      "INFO: Early stopping counter 21 of 50\n"
     ]
    },
    {
     "name": "stderr",
     "output_type": "stream",
     "text": [
      "Training:  20%|██        | 102/500 [00:04<00:18, 21.99it/s]"
     ]
    },
    {
     "name": "stdout",
     "output_type": "stream",
     "text": [
      "INFO: Early stopping counter 22 of 50\n",
      "INFO: Early stopping counter 23 of 50\n",
      "Epoch: 100 Training loss: 0.19 Validation loss: 0.11\n",
      "Epoch: 100 Training accuracy: 0.92 Validation accuracy: 0.88\n",
      "INFO: Early stopping counter 24 of 50\n",
      "INFO: Early stopping counter 25 of 50\n",
      "INFO: Early stopping counter 26 of 50\n"
     ]
    },
    {
     "name": "stderr",
     "output_type": "stream",
     "text": [
      "Training:  22%|██▏       | 108/500 [00:04<00:17, 22.05it/s]"
     ]
    },
    {
     "name": "stdout",
     "output_type": "stream",
     "text": [
      "INFO: Early stopping counter 27 of 50\n",
      "INFO: Early stopping counter 28 of 50\n",
      "INFO: Early stopping counter 29 of 50\n",
      "INFO: Early stopping counter 30 of 50\n",
      "Epoch   109: reducing learning rate of group 0 to 5.0000e-04.\n",
      "INFO: Early stopping counter 31 of 50\n"
     ]
    },
    {
     "name": "stderr",
     "output_type": "stream",
     "text": [
      "Training:  23%|██▎       | 114/500 [00:05<00:17, 22.09it/s]"
     ]
    },
    {
     "name": "stdout",
     "output_type": "stream",
     "text": [
      "INFO: Early stopping counter 32 of 50\n",
      "INFO: Early stopping counter 33 of 50\n",
      "Epoch: 110 Training loss: 0.17 Validation loss: 0.11\n",
      "Epoch: 110 Training accuracy: 0.94 Validation accuracy: 0.87\n",
      "INFO: Early stopping counter 34 of 50\n",
      "INFO: Early stopping counter 35 of 50\n",
      "INFO: Early stopping counter 36 of 50\n"
     ]
    },
    {
     "name": "stderr",
     "output_type": "stream",
     "text": [
      "Training:  23%|██▎       | 117/500 [00:05<00:17, 22.10it/s]"
     ]
    },
    {
     "name": "stdout",
     "output_type": "stream",
     "text": [
      "INFO: Early stopping counter 37 of 50\n",
      "INFO: Early stopping counter 38 of 50\n",
      "INFO: Early stopping counter 39 of 50\n",
      "INFO: Early stopping counter 40 of 50\n",
      "INFO: Early stopping counter 41 of 50\n"
     ]
    },
    {
     "name": "stderr",
     "output_type": "stream",
     "text": [
      "Training:  25%|██▍       | 123/500 [00:05<00:17, 22.07it/s]"
     ]
    },
    {
     "name": "stdout",
     "output_type": "stream",
     "text": [
      "INFO: Early stopping counter 42 of 50\n",
      "INFO: Early stopping counter 43 of 50\n",
      "Epoch: 120 Training loss: 0.14 Validation loss: 0.11\n",
      "Epoch: 120 Training accuracy: 0.95 Validation accuracy: 0.88\n",
      "INFO: Early stopping counter 44 of 50\n",
      "INFO: Early stopping counter 45 of 50\n",
      "INFO: Early stopping counter 46 of 50\n"
     ]
    },
    {
     "name": "stderr",
     "output_type": "stream",
     "text": [
      "Training:  25%|██▌       | 127/500 [00:05<00:17, 21.35it/s]"
     ]
    },
    {
     "name": "stdout",
     "output_type": "stream",
     "text": [
      "INFO: Early stopping counter 47 of 50\n",
      "INFO: Early stopping counter 48 of 50\n",
      "INFO: Early stopping counter 49 of 50\n",
      "INFO: Early stopping counter 50 of 50\n",
      "INFO: Early stopping\n",
      "\n",
      "Saving loss and accuracy plots...\n"
     ]
    },
    {
     "name": "stderr",
     "output_type": "stream",
     "text": [
      "\n"
     ]
    },
    {
     "data": {
      "image/png": "[encoded data removed]",
      "text/plain": [
       "<Figure size 720x504 with 1 Axes>"
      ]
     },
     "metadata": {
      "needs_background": "light"
     },
     "output_type": "display_data"
    },
    {
     "data": {
      "image/png": "[encoded data removed]",
      "text/plain": [
       "<Figure size 720x504 with 1 Axes>"
      ]
     },
     "metadata": {
      "needs_background": "light"
     },
     "output_type": "display_data"
    },
    {
     "name": "stdout",
     "output_type": "stream",
     "text": [
      "CPU times: user 6.26 s, sys: 167 ms, total: 6.43 s\n",
      "Wall time: 6.76 s\n"
     ]
    }
   ],
   "source": [
    "%%time\n",
    "train_losses, validation_losses, train_accuracies, validation_accuracies = train_model(model=model_bcewl, criterion=criterion, optimizer=optimizer, n_epochs=n_epochs\n",
    "                                                                                     , train_loader=train_loader, validation_loader=validation_loader\n",
    "                                                                                     , lr_scheduler=lr_scheduler, early_stopper=early_stopper\n",
    "                                                                                     , pos_label=1, threshold=threshold)\n",
    "\n",
    "\n",
    "print('\\nSaving loss and accuracy plots...')\n",
    "# accuracy plots\n",
    "plt.figure(figsize=(10, 7))\n",
    "plt.plot(train_accuracies, color='green', label='train accuracy')\n",
    "plt.plot(validation_accuracies, color='blue', label='validataion accuracy')\n",
    "plt.xlabel('Epochs')\n",
    "plt.ylabel('Accuracy')\n",
    "plt.legend()\n",
    "plt.savefig(\"{}/figures/Accuracies by epoch\".format(ROOT_DIR))\n",
    "plt.show()\n",
    "\n",
    "# loss plots\n",
    "plt.figure(figsize=(10, 7))\n",
    "plt.plot(train_losses, color='orange', label='train loss')\n",
    "plt.plot(validation_losses, color='red', label='validataion loss')\n",
    "plt.xlabel('Epochs')\n",
    "plt.ylabel('Loss')\n",
    "plt.legend()\n",
    "plt.savefig(\"{}/figures/Losses by epoch\".format(ROOT_DIR))\n",
    "plt.show()"
   ]
  },
  {
   "cell_type": "code",
   "execution_count": 26,
   "metadata": {},
   "outputs": [
    {
     "data": {
      "text/plain": [
       "('Train: 0.1087377518415451',\n",
       " 'Validation: 0.1087377518415451',\n",
       " 'Test: 0.1619538813829422')"
      ]
     },
     "execution_count": 26,
     "metadata": {},
     "output_type": "execute_result"
    }
   ],
   "source": [
    "model_bcewl.eval() #Swith to evaluation mode, where dropout is switched off\n",
    "y_pred_train      = model_bcewl(X_train)\n",
    "y_pred_validation = model_bcewl(X_validation)\n",
    "y_pred_test       = model_bcewl(X_test)\n",
    "\n",
    "# criterion(y_pred_train, y_train), criterion(y_pred_validation, y_validation).item(), criterion(y_pred_test, y_test).item()\n",
    "\"Train: {}\".format(torch.mean(( y_validation - torch.sigmoid(y_pred_validation) )**2).item()), \"Validation: {}\".format(torch.mean(( y_validation - torch.sigmoid(y_pred_validation) )**2).item()), \"Test: {}\".format(torch.mean(( y_test - torch.sigmoid(y_pred_test) )**2).item())"
   ]
  },
  {
   "cell_type": "code",
   "execution_count": 27,
   "metadata": {},
   "outputs": [],
   "source": [
    "train_results      = return_binary_class_labels(predictions=y_pred_train, threshold=threshold, pos_label=pos_label)\n",
    "validation_results = return_binary_class_labels(predictions=y_pred_validation, threshold=threshold, pos_label=pos_label)\n",
    "test_results       = return_binary_class_labels(predictions=y_pred_test, threshold=threshold, pos_label=pos_label)\n",
    "# train_results, y_train"
   ]
  },
  {
   "cell_type": "markdown",
   "metadata": {},
   "source": [
    "#### Compute confusion matrix and accuray"
   ]
  },
  {
   "cell_type": "code",
   "execution_count": 28,
   "metadata": {},
   "outputs": [
    {
     "data": {
      "text/plain": [
       "('Train',\n",
       " tensor([[657,   8],\n",
       "         [  4, 495]]),\n",
       " 'Validation',\n",
       " tensor([[142,  14],\n",
       "         [ 23, 154]]),\n",
       " 'Test',\n",
       " tensor([[76, 12],\n",
       "         [16, 62]]),\n",
       " 'Train: 0.99 - Validation: 0.889 - Test: 0.831')"
      ]
     },
     "execution_count": 28,
     "metadata": {},
     "output_type": "execute_result"
    }
   ],
   "source": [
    "confmat = ConfusionMatrix(num_classes=2)\n",
    "cmat_train      = confmat(train_results.to('cpu'), y_train.int().to('cpu'))\n",
    "cmat_validation = confmat(validation_results.to('cpu'), y_validation.int().to('cpu'))\n",
    "cmat_test       = confmat(test_results.to('cpu'), y_test.int().to('cpu'))\n",
    "accuracy = Accuracy(num_classes=2)\n",
    "accuracy_train      = accuracy(train_results.int().to('cpu'), y_train.int().to('cpu'))\n",
    "accuracy_validation = accuracy(validation_results.int().to('cpu'), y_validation.int().to('cpu'))\n",
    "accuracy_test       = accuracy(test_results.int().to('cpu'), y_test.int().to('cpu'))\n",
    "\n",
    "\n",
    "# \"Train: {}\".format(cmat_train), \"Validation: {}\".format(cmat_validation), \"Test: {}\".format(cmat_test)\n",
    "\"Train\", cmat_train, \"Validation\", cmat_validation, \"Test\", cmat_test, \"Train: {} - Validation: {} - Test: {}\".format(round(float(accuracy_train), 3)\n",
    "                                               , round(float(accuracy_validation), 3)\n",
    "                                               ,  round(float(accuracy_test), 3))"
   ]
  },
  {
   "cell_type": "markdown",
   "metadata": {},
   "source": [
    "\\\n",
    "The results are very similar in terms of loss and statistics. \\\n",
    "We have used early stopping and learning rate scheduling. Feel free to set disable either feature by seeting it to None. Instead of using early stopping or schedule the learning rate, one can use certain optimizers such as the **Adam optimizer** that already implements a learning rate scheduling approach. However, it does not always outperforms. However, it can cause model divergence."
   ]
  },
  {
   "cell_type": "markdown",
   "metadata": {},
   "source": [
    "## Using the Adam optimizer, and BCEWithLogitsLoss function"
   ]
  },
  {
   "cell_type": "code",
   "execution_count": 29,
   "metadata": {},
   "outputs": [
    {
     "data": {
      "text/plain": [
       "tensor([[0., 0., 0.,  ..., 0., 0., 0.],\n",
       "        [0., 0., 0.,  ..., 0., 0., 0.],\n",
       "        [0., 0., 0.,  ..., 0., 0., 0.],\n",
       "        ...,\n",
       "        [0., 0., 0.,  ..., 0., 0., 0.],\n",
       "        [0., 0., 0.,  ..., 0., 0., 0.],\n",
       "        [0., 0., 0.,  ..., 0., 0., 0.]], device='cuda:0')"
      ]
     },
     "execution_count": 29,
     "metadata": {},
     "output_type": "execute_result"
    }
   ],
   "source": [
    "X_train       = np.stack(compounds_train.FPs.values)\n",
    "y_train       = compounds_train.activity.values.reshape((-1,1))\n",
    "X_validation  = np.stack(compounds_validation.FPs.values)\n",
    "y_validation  = compounds_validation.activity.values.reshape((-1,1))\n",
    "X_test        = np.stack(compounds_test.FPs.values)\n",
    "y_test        = compounds_test.activity.values.reshape((-1,1))\n",
    "X_train.shape, X_validation.shape, X_test.shape\n",
    "\n",
    "X_train = torch.tensor(X_train, device=device).float()\n",
    "X_test = torch.tensor(X_test, device=device).float()\n",
    "X_validation = torch.tensor(X_validation, device=device).float()\n",
    "y_train = torch.tensor(y_train, device=device).float()\n",
    "y_test = torch.tensor(y_test, device=device).float()\n",
    "y_validation = torch.tensor(y_validation, device=device).float()\n",
    "X_train"
   ]
  },
  {
   "cell_type": "code",
   "execution_count": 30,
   "metadata": {},
   "outputs": [],
   "source": [
    "criterion = nn.BCEWithLogitsLoss() # De facto for binary classification\n",
    "model_bcewl = ActivityNet(n_inputs, hidden_size, dropout_rate, output_size, squash_output=False).to(device=device) # Returns a Tensor with the specified device\n",
    "optimizer = optim.Adam(model_bcewl.parameters(), lr=learning_rate)\n",
    "threshold    = torch.tensor([0.0]).to(device)\n",
    "early_stopper = EarlyStopping(min_delta=0.00001, patience = es_patience)\n",
    "lr_scheduler = ReduceLROnPlateau(optimizer, mode='min', factor=0.5\n",
    "                                 , patience=lr_patience # Number of epochs with no improvement after which learning rate will be reduced\n",
    "                                 , verbose=True\n",
    "                                 , threshold=0.0001\n",
    "                                 , threshold_mode='rel', cooldown=0, min_lr=1e-6, eps=1e-08)"
   ]
  },
  {
   "cell_type": "code",
   "execution_count": 31,
   "metadata": {},
   "outputs": [
    {
     "name": "stderr",
     "output_type": "stream",
     "text": [
      "Training:   1%|          | 4/500 [00:00<00:30, 16.27it/s]"
     ]
    },
    {
     "name": "stdout",
     "output_type": "stream",
     "text": [
      "Epoch:   0 Training loss: 0.63 Validation loss: 0.19\n",
      "Epoch:   0 Training accuracy: 0.64 Validation accuracy: 0.78\n",
      "INFO: Early stopping counter 1 of 50\n"
     ]
    },
    {
     "name": "stderr",
     "output_type": "stream",
     "text": [
      "Training:   2%|▏         | 8/500 [00:00<00:30, 16.27it/s]"
     ]
    },
    {
     "name": "stdout",
     "output_type": "stream",
     "text": [
      "INFO: Early stopping counter 2 of 50\n",
      "INFO: Early stopping counter 3 of 50\n",
      "INFO: Early stopping counter 4 of 50\n",
      "INFO: Early stopping counter 5 of 50\n"
     ]
    },
    {
     "name": "stderr",
     "output_type": "stream",
     "text": [
      "Training:   2%|▏         | 12/500 [00:00<00:30, 16.25it/s]"
     ]
    },
    {
     "name": "stdout",
     "output_type": "stream",
     "text": [
      "INFO: Early stopping counter 6 of 50\n",
      "INFO: Early stopping counter 7 of 50\n",
      "INFO: Early stopping counter 8 of 50\n",
      "Epoch:  10 Training loss: 0.01 Validation loss: 0.15\n",
      "Epoch:  10 Training accuracy: 1.00 Validation accuracy: 0.84\n",
      "INFO: Early stopping counter 9 of 50\n"
     ]
    },
    {
     "name": "stderr",
     "output_type": "stream",
     "text": [
      "Training:   3%|▎         | 16/500 [00:00<00:29, 16.24it/s]"
     ]
    },
    {
     "name": "stdout",
     "output_type": "stream",
     "text": [
      "INFO: Early stopping counter 10 of 50\n",
      "INFO: Early stopping counter 11 of 50\n",
      "INFO: Early stopping counter 12 of 50\n",
      "INFO: Early stopping counter 13 of 50\n"
     ]
    },
    {
     "name": "stderr",
     "output_type": "stream",
     "text": [
      "Training:   4%|▍         | 20/500 [00:01<00:29, 16.18it/s]"
     ]
    },
    {
     "name": "stdout",
     "output_type": "stream",
     "text": [
      "INFO: Early stopping counter 14 of 50\n",
      "INFO: Early stopping counter 15 of 50\n",
      "INFO: Early stopping counter 16 of 50\n",
      "INFO: Early stopping counter 17 of 50\n"
     ]
    },
    {
     "name": "stderr",
     "output_type": "stream",
     "text": [
      "Training:   5%|▍         | 24/500 [00:01<00:29, 16.20it/s]"
     ]
    },
    {
     "name": "stdout",
     "output_type": "stream",
     "text": [
      "INFO: Early stopping counter 18 of 50\n",
      "Epoch:  20 Training loss: 0.01 Validation loss: 0.15\n",
      "Epoch:  20 Training accuracy: 1.00 Validation accuracy: 0.84\n",
      "INFO: Early stopping counter 19 of 50\n",
      "INFO: Early stopping counter 20 of 50\n",
      "INFO: Early stopping counter 21 of 50\n"
     ]
    },
    {
     "name": "stderr",
     "output_type": "stream",
     "text": [
      "Training:   6%|▌         | 28/500 [00:01<00:29, 16.04it/s]"
     ]
    },
    {
     "name": "stdout",
     "output_type": "stream",
     "text": [
      "INFO: Early stopping counter 22 of 50\n",
      "INFO: Early stopping counter 23 of 50\n",
      "INFO: Early stopping counter 24 of 50\n",
      "INFO: Early stopping counter 25 of 50\n"
     ]
    },
    {
     "name": "stderr",
     "output_type": "stream",
     "text": [
      "Training:   6%|▋         | 32/500 [00:01<00:28, 16.16it/s]"
     ]
    },
    {
     "name": "stdout",
     "output_type": "stream",
     "text": [
      "INFO: Early stopping counter 26 of 50\n",
      "INFO: Early stopping counter 27 of 50\n",
      "INFO: Early stopping counter 28 of 50\n",
      "Epoch:  30 Training loss: 0.00 Validation loss: 0.15\n",
      "Epoch:  30 Training accuracy: 1.00 Validation accuracy: 0.85\n",
      "INFO: Early stopping counter 29 of 50\n"
     ]
    },
    {
     "name": "stderr",
     "output_type": "stream",
     "text": [
      "Training:   7%|▋         | 36/500 [00:02<00:28, 16.21it/s]"
     ]
    },
    {
     "name": "stdout",
     "output_type": "stream",
     "text": [
      "INFO: Early stopping counter 30 of 50\n",
      "INFO: Early stopping counter 31 of 50\n",
      "INFO: Early stopping counter 32 of 50\n",
      "INFO: Early stopping counter 33 of 50\n"
     ]
    },
    {
     "name": "stderr",
     "output_type": "stream",
     "text": [
      "Training:   8%|▊         | 38/500 [00:02<00:28, 16.22it/s]"
     ]
    },
    {
     "name": "stdout",
     "output_type": "stream",
     "text": [
      "INFO: Early stopping counter 34 of 50\n",
      "INFO: Early stopping counter 35 of 50\n",
      "INFO: Early stopping counter 36 of 50\n"
     ]
    },
    {
     "name": "stderr",
     "output_type": "stream",
     "text": [
      "Training:   8%|▊         | 40/500 [00:02<00:29, 15.42it/s]"
     ]
    },
    {
     "name": "stdout",
     "output_type": "stream",
     "text": [
      "INFO: Early stopping counter 37 of 50\n",
      "INFO: Early stopping counter 38 of 50\n",
      "Epoch:  40 Training loss: 0.00 Validation loss: 0.15\n",
      "Epoch:  40 Training accuracy: 1.00 Validation accuracy: 0.85\n"
     ]
    },
    {
     "name": "stderr",
     "output_type": "stream",
     "text": [
      "Training:   9%|▉         | 44/500 [00:02<00:32, 13.92it/s]"
     ]
    },
    {
     "name": "stdout",
     "output_type": "stream",
     "text": [
      "INFO: Early stopping counter 39 of 50\n",
      "INFO: Early stopping counter 40 of 50\n",
      "INFO: Early stopping counter 41 of 50\n",
      "INFO: Early stopping counter 42 of 50\n"
     ]
    },
    {
     "name": "stderr",
     "output_type": "stream",
     "text": [
      "Training:  10%|▉         | 48/500 [00:03<00:30, 14.94it/s]"
     ]
    },
    {
     "name": "stdout",
     "output_type": "stream",
     "text": [
      "INFO: Early stopping counter 43 of 50\n",
      "INFO: Early stopping counter 44 of 50\n",
      "INFO: Early stopping counter 45 of 50\n",
      "INFO: Early stopping counter 46 of 50\n"
     ]
    },
    {
     "name": "stderr",
     "output_type": "stream",
     "text": [
      "Training:  10%|█         | 52/500 [00:03<00:29, 15.41it/s]"
     ]
    },
    {
     "name": "stdout",
     "output_type": "stream",
     "text": [
      "INFO: Early stopping counter 47 of 50\n",
      "INFO: Early stopping counter 48 of 50\n",
      "Epoch:  50 Training loss: 0.00 Validation loss: 0.15\n",
      "Epoch:  50 Training accuracy: 1.00 Validation accuracy: 0.85\n",
      "INFO: Early stopping counter 49 of 50\n",
      "INFO: Early stopping counter 50 of 50\n",
      "INFO: Early stopping\n",
      "\n",
      "Saving loss and accuracy plots...\n"
     ]
    },
    {
     "name": "stderr",
     "output_type": "stream",
     "text": [
      "\n"
     ]
    },
    {
     "data": {
      "image/png": "[encoded data removed]",
      "text/plain": [
       "<Figure size 720x504 with 1 Axes>"
      ]
     },
     "metadata": {
      "needs_background": "light"
     },
     "output_type": "display_data"
    },
    {
     "data": {
      "image/png": "[encoded data removed]",
      "text/plain": [
       "<Figure size 720x504 with 1 Axes>"
      ]
     },
     "metadata": {
      "needs_background": "light"
     },
     "output_type": "display_data"
    },
    {
     "name": "stdout",
     "output_type": "stream",
     "text": [
      "CPU times: user 3.73 s, sys: 149 ms, total: 3.88 s\n",
      "Wall time: 3.89 s\n"
     ]
    }
   ],
   "source": [
    "%%time\n",
    "train_losses, validation_losses, train_accuracies, validation_accuracies = train_model(model=model_bcewl, criterion=criterion, optimizer=optimizer, n_epochs=n_epochs\n",
    "                                                                                     , train_loader=train_loader, validation_loader=validation_loader\n",
    "                                                                                     , lr_scheduler=None, early_stopper=early_stopper\n",
    "                                                                                     , pos_label=1, threshold=threshold)\n",
    "\n",
    "\n",
    "print('\\nSaving loss and accuracy plots...')\n",
    "# accuracy plots\n",
    "plt.figure(figsize=(10, 7))\n",
    "plt.plot(train_accuracies, color='green', label='train accuracy')\n",
    "plt.plot(validation_accuracies, color='blue', label='validataion accuracy')\n",
    "plt.xlabel('Epochs')\n",
    "plt.ylabel('Accuracy')\n",
    "plt.legend()\n",
    "plt.savefig(\"{}/figures/Accuracies by epoch\".format(ROOT_DIR))\n",
    "plt.show()\n",
    "\n",
    "# loss plots\n",
    "plt.figure(figsize=(10, 7))\n",
    "plt.plot(train_losses, color='orange', label='train loss')\n",
    "plt.plot(validation_losses, color='red', label='validataion loss')\n",
    "plt.xlabel('Epochs')\n",
    "plt.ylabel('Loss')\n",
    "plt.legend()\n",
    "plt.savefig(\"{}/figures/Losses by epoch\".format(ROOT_DIR))\n",
    "plt.show()"
   ]
  },
  {
   "cell_type": "code",
   "execution_count": 32,
   "metadata": {},
   "outputs": [
    {
     "data": {
      "text/plain": [
       "('Train: 0.15314322710037231',\n",
       " 'Validation: 0.15314322710037231',\n",
       " 'Test: 0.17452114820480347')"
      ]
     },
     "execution_count": 32,
     "metadata": {},
     "output_type": "execute_result"
    }
   ],
   "source": [
    "model_bcewl.eval() #Swith to evaluation mode, where dropout is switched off\n",
    "y_pred_train      = model_bcewl(X_train)\n",
    "y_pred_validation = model_bcewl(X_validation)\n",
    "y_pred_test       = model_bcewl(X_test)\n",
    "\n",
    "# criterion(y_pred_train, y_train), criterion(y_pred_validation, y_validation).item(), criterion(y_pred_test, y_test).item()\n",
    "\"Train: {}\".format(torch.mean(( y_validation - torch.sigmoid(y_pred_validation) )**2).item()), \"Validation: {}\".format(torch.mean(( y_validation - torch.sigmoid(y_pred_validation) )**2).item()), \"Test: {}\".format(torch.mean(( y_test - torch.sigmoid(y_pred_test) )**2).item())"
   ]
  },
  {
   "cell_type": "code",
   "execution_count": 33,
   "metadata": {},
   "outputs": [],
   "source": [
    "train_results      = return_binary_class_labels(predictions=y_pred_train, threshold=threshold, pos_label=pos_label)\n",
    "validation_results = return_binary_class_labels(predictions=y_pred_validation, threshold=threshold, pos_label=pos_label)\n",
    "test_results       = return_binary_class_labels(predictions=y_pred_test, threshold=threshold, pos_label=pos_label)\n",
    "# train_results, y_train"
   ]
  },
  {
   "cell_type": "markdown",
   "metadata": {},
   "source": [
    "#### Compute confusion matrix and accuray"
   ]
  },
  {
   "cell_type": "code",
   "execution_count": 34,
   "metadata": {},
   "outputs": [
    {
     "data": {
      "text/plain": [
       "('Train',\n",
       " tensor([[665,   0],\n",
       "         [  0, 499]]),\n",
       " 'Validation',\n",
       " tensor([[127,  29],\n",
       "         [ 22, 155]]),\n",
       " 'Test',\n",
       " tensor([[72, 16],\n",
       "         [13, 65]]),\n",
       " 'Train: 1.0 - Validation: 0.847 - Test: 0.825')"
      ]
     },
     "execution_count": 34,
     "metadata": {},
     "output_type": "execute_result"
    }
   ],
   "source": [
    "confmat = ConfusionMatrix(num_classes=2)\n",
    "cmat_train      = confmat(train_results.to('cpu'), y_train.int().to('cpu'))\n",
    "cmat_validation = confmat(validation_results.to('cpu'), y_validation.int().to('cpu'))\n",
    "cmat_test       = confmat(test_results.to('cpu'), y_test.int().to('cpu'))\n",
    "accuracy = Accuracy(num_classes=2)\n",
    "accuracy_train      = accuracy(train_results.int().to('cpu'), y_train.int().to('cpu'))\n",
    "accuracy_validation = accuracy(validation_results.int().to('cpu'), y_validation.int().to('cpu'))\n",
    "accuracy_test       = accuracy(test_results.int().to('cpu'), y_test.int().to('cpu'))\n",
    "\n",
    "\n",
    "# \"Train: {}\".format(cmat_train), \"Validation: {}\".format(cmat_validation), \"Test: {}\".format(cmat_test)\n",
    "\"Train\", cmat_train, \"Validation\", cmat_validation, \"Test\", cmat_test, \"Train: {} - Validation: {} - Test: {}\".format(round(float(accuracy_train), 3)\n",
    "                                               , round(float(accuracy_validation), 3)\n",
    "                                               ,  round(float(accuracy_test), 3))"
   ]
  }
 ],
 "metadata": {
  "kernelspec": {
   "display_name": "Python [conda env:jovyan-nlp_metabolizer]",
   "language": "python",
   "name": "conda-env-jovyan-nlp_metabolizer-py"
  },
  "language_info": {
   "codemirror_mode": {
    "name": "ipython",
    "version": 3
   },
   "file_extension": ".py",
   "mimetype": "text/x-python",
   "name": "python",
   "nbconvert_exporter": "python",
   "pygments_lexer": "ipython3",
   "version": "3.7.13"
  }
 },
 "nbformat": 4,
 "nbformat_minor": 5
}
