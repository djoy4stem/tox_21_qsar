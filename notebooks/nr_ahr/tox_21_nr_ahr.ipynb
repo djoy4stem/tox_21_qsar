{
 "cells": [
  {
   "cell_type": "code",
   "execution_count": 72,
   "metadata": {},
   "outputs": [],
   "source": [
    "# https://medium.com/analytics-vidhya/feature-selection-using-scikit-learn-5b4362e0c19b\n",
    "# https://towardsdatascience.com/rank-the-features-now-rank-again-4dafd8cde3c8"
   ]
  },
  {
   "cell_type": "code",
   "execution_count": 2,
   "metadata": {},
   "outputs": [
    {
     "data": {
      "text/plain": [
       "'../datasets'"
      ]
     },
     "execution_count": 2,
     "metadata": {},
     "output_type": "execute_result"
    }
   ],
   "source": [
    "ROOT_DIR = \"..\"\n",
    "DATASET_DIR = \"{}/datasets\".format(ROOT_DIR)\n",
    "DATASET_DIR"
   ]
  },
  {
   "cell_type": "code",
   "execution_count": 3,
   "metadata": {},
   "outputs": [],
   "source": [
    "### Use LightGBM\n",
    "\n",
    "# ### Using ML/DL libraries\n",
    "# 1. OpenChem\n",
    "# 2. ChemProp\n",
    "# 3. DeepChem"
   ]
  },
  {
   "cell_type": "code",
   "execution_count": 4,
   "metadata": {},
   "outputs": [],
   "source": [
    "import os\n",
    "import sys\n",
    "ROOT_DIR = os.pardir\n",
    "sys.path.insert(0, os.path.abspath(ROOT_DIR))\n",
    "from matplotlib import pyplot\n",
    "import numpy as np\n",
    "import pandas as pd\n",
    "from pprint import pprint\n",
    "import re\n",
    "\n",
    "from scipy import stats\n",
    "import seaborn as sns\n",
    "from sklearn.decomposition import PCA\n",
    "from sklearn.model_selection import train_test_split, GridSearchCV\n"
   ]
  },
  {
   "cell_type": "code",
   "execution_count": 5,
   "metadata": {},
   "outputs": [],
   "source": [
    "def detect_outlier_z_scores(df):\n",
    "  \"\"\"\n",
    "  To perform outlier detection, we are going to employ the Z-Score method because it is the simplest one.\n",
    "  This s a slight modification of the code from the following link\n",
    "  https://www.kaggle.com/alexandrehsd/binary-multiclass-classification-factor-analysis/notebookSS\n",
    "  \"\"\"\n",
    "  flag_outlier = False\n",
    "\n",
    "  for feature in df:\n",
    "    #print(feature)\n",
    "    column = df[feature]\n",
    "    mean = np.mean(column)\n",
    "    std = np.std(column)\n",
    "    z_scores = (column - mean) / std\n",
    "    outliers = np.abs(z_scores) > 3\n",
    "    \n",
    "    n_outliers = sum(outliers)\n",
    "    \n",
    "    if n_outliers > 0:\n",
    "      print(\"{} has {} outliers\".format(feature, n_outliers))\n",
    "      flag_outlier = True\n",
    "\n",
    "  if not flag_outlier:\n",
    "    print(\"\\nThe dataset has no outliers.\")\n",
    "    \n",
    "    return None\n",
    "\n",
    "def remove_outliers_by_z_score(df:pd.DataFrame, threshold:int = 3):\n",
    "    ## Find outliers for all features\n",
    "    z = np.abs(stats.zscore(df))\n",
    "    outliers = np.where(z > threshold)\n",
    "    columns = df.columns.tolist()\n",
    "    cols_with_outliers = [columns[i] for i in \n",
    "                         set(outliers[1].tolist())]\n",
    "    \n",
    "    print(\"Features with outliers ({}) : {}\".format(len(cols_with_outliers), cols_with_outliers))\n",
    "    print(outliers[0].size)\n",
    "    \n",
    "    ## Remove outliers\n",
    "    print(\"\\nRemoving {} rows...\".format(  len(set(outliers[0].tolist()))   ))\n",
    "    print(np.where(z <= threshold)[0].size)\n",
    "    new_df = df[(z <= threshold).all(axis=1)]\n",
    "    print(new_df.shape)\n",
    "    return new_df"
   ]
  },
  {
   "cell_type": "code",
   "execution_count": 6,
   "metadata": {},
   "outputs": [
    {
     "data": {
      "text/html": [
       "<div>\n",
       "<style scoped>\n",
       "    .dataframe tbody tr th:only-of-type {\n",
       "        vertical-align: middle;\n",
       "    }\n",
       "\n",
       "    .dataframe tbody tr th {\n",
       "        vertical-align: top;\n",
       "    }\n",
       "\n",
       "    .dataframe thead th {\n",
       "        text-align: right;\n",
       "    }\n",
       "</style>\n",
       "<table border=\"1\" class=\"dataframe\">\n",
       "  <thead>\n",
       "    <tr style=\"text-align: right;\">\n",
       "      <th></th>\n",
       "      <th>ALogP (#1)</th>\n",
       "      <th>ALogP (#2)</th>\n",
       "      <th>ALogP (#3)</th>\n",
       "      <th>AMW</th>\n",
       "      <th>Aromatic Atoms Count</th>\n",
       "      <th>Aromatic Bonds Count</th>\n",
       "      <th>Atomic Polarizabilities</th>\n",
       "      <th>BCUT (#1)</th>\n",
       "      <th>BCUT (#10)</th>\n",
       "      <th>BCUT (#100)</th>\n",
       "      <th>...</th>\n",
       "      <th>smr_VSA10</th>\n",
       "      <th>smr_VSA2</th>\n",
       "      <th>smr_VSA3</th>\n",
       "      <th>smr_VSA4</th>\n",
       "      <th>smr_VSA5</th>\n",
       "      <th>smr_VSA6</th>\n",
       "      <th>smr_VSA7</th>\n",
       "      <th>smr_VSA8</th>\n",
       "      <th>smr_VSA9</th>\n",
       "      <th>Activity</th>\n",
       "    </tr>\n",
       "  </thead>\n",
       "  <tbody>\n",
       "    <tr>\n",
       "      <th>0</th>\n",
       "      <td>1.6575</td>\n",
       "      <td>2.747306</td>\n",
       "      <td>107.0444</td>\n",
       "      <td>396.571</td>\n",
       "      <td>6</td>\n",
       "      <td>6</td>\n",
       "      <td>72.170548</td>\n",
       "      <td>15.996934</td>\n",
       "      <td>11.999</td>\n",
       "      <td>0.0</td>\n",
       "      <td>...</td>\n",
       "      <td>5.969305</td>\n",
       "      <td>0.0</td>\n",
       "      <td>0.000000</td>\n",
       "      <td>23.168709</td>\n",
       "      <td>95.995469</td>\n",
       "      <td>0.000000</td>\n",
       "      <td>29.326004</td>\n",
       "      <td>0.0</td>\n",
       "      <td>5.749512</td>\n",
       "      <td>0</td>\n",
       "    </tr>\n",
       "    <tr>\n",
       "      <th>1</th>\n",
       "      <td>2.8230</td>\n",
       "      <td>7.969329</td>\n",
       "      <td>48.0370</td>\n",
       "      <td>166.220</td>\n",
       "      <td>6</td>\n",
       "      <td>6</td>\n",
       "      <td>28.539102</td>\n",
       "      <td>15.998261</td>\n",
       "      <td>11.999</td>\n",
       "      <td>0.0</td>\n",
       "      <td>...</td>\n",
       "      <td>0.000000</td>\n",
       "      <td>0.0</td>\n",
       "      <td>0.000000</td>\n",
       "      <td>0.000000</td>\n",
       "      <td>26.186202</td>\n",
       "      <td>0.000000</td>\n",
       "      <td>23.762553</td>\n",
       "      <td>0.0</td>\n",
       "      <td>11.499024</td>\n",
       "      <td>1</td>\n",
       "    </tr>\n",
       "    <tr>\n",
       "      <th>2</th>\n",
       "      <td>2.8230</td>\n",
       "      <td>7.969329</td>\n",
       "      <td>48.0370</td>\n",
       "      <td>166.220</td>\n",
       "      <td>6</td>\n",
       "      <td>6</td>\n",
       "      <td>28.539102</td>\n",
       "      <td>15.998261</td>\n",
       "      <td>11.999</td>\n",
       "      <td>0.0</td>\n",
       "      <td>...</td>\n",
       "      <td>0.000000</td>\n",
       "      <td>0.0</td>\n",
       "      <td>0.000000</td>\n",
       "      <td>0.000000</td>\n",
       "      <td>26.186202</td>\n",
       "      <td>0.000000</td>\n",
       "      <td>23.762553</td>\n",
       "      <td>0.0</td>\n",
       "      <td>11.499024</td>\n",
       "      <td>1</td>\n",
       "    </tr>\n",
       "    <tr>\n",
       "      <th>3</th>\n",
       "      <td>2.2844</td>\n",
       "      <td>5.218483</td>\n",
       "      <td>108.6492</td>\n",
       "      <td>329.467</td>\n",
       "      <td>12</td>\n",
       "      <td>12</td>\n",
       "      <td>59.349825</td>\n",
       "      <td>14.009292</td>\n",
       "      <td>11.999</td>\n",
       "      <td>0.0</td>\n",
       "      <td>...</td>\n",
       "      <td>16.972176</td>\n",
       "      <td>0.0</td>\n",
       "      <td>0.000000</td>\n",
       "      <td>0.000000</td>\n",
       "      <td>0.000000</td>\n",
       "      <td>33.090598</td>\n",
       "      <td>95.601392</td>\n",
       "      <td>0.0</td>\n",
       "      <td>0.000000</td>\n",
       "      <td>1</td>\n",
       "    </tr>\n",
       "    <tr>\n",
       "      <th>4</th>\n",
       "      <td>1.1843</td>\n",
       "      <td>1.402566</td>\n",
       "      <td>95.3407</td>\n",
       "      <td>354.450</td>\n",
       "      <td>9</td>\n",
       "      <td>10</td>\n",
       "      <td>58.902618</td>\n",
       "      <td>15.996934</td>\n",
       "      <td>11.999</td>\n",
       "      <td>0.0</td>\n",
       "      <td>...</td>\n",
       "      <td>16.872230</td>\n",
       "      <td>0.0</td>\n",
       "      <td>9.883888</td>\n",
       "      <td>17.753718</td>\n",
       "      <td>37.829094</td>\n",
       "      <td>20.199310</td>\n",
       "      <td>35.522848</td>\n",
       "      <td>0.0</td>\n",
       "      <td>0.000000</td>\n",
       "      <td>1</td>\n",
       "    </tr>\n",
       "  </tbody>\n",
       "</table>\n",
       "<p>5 rows × 1608 columns</p>\n",
       "</div>"
      ],
      "text/plain": [
       "   ALogP (#1)  ALogP (#2)  ALogP (#3)      AMW  Aromatic Atoms Count  \\\n",
       "0      1.6575    2.747306    107.0444  396.571                     6   \n",
       "1      2.8230    7.969329     48.0370  166.220                     6   \n",
       "2      2.8230    7.969329     48.0370  166.220                     6   \n",
       "3      2.2844    5.218483    108.6492  329.467                    12   \n",
       "4      1.1843    1.402566     95.3407  354.450                     9   \n",
       "\n",
       "   Aromatic Bonds Count  Atomic Polarizabilities  BCUT (#1)  BCUT (#10)  \\\n",
       "0                     6                72.170548  15.996934      11.999   \n",
       "1                     6                28.539102  15.998261      11.999   \n",
       "2                     6                28.539102  15.998261      11.999   \n",
       "3                    12                59.349825  14.009292      11.999   \n",
       "4                    10                58.902618  15.996934      11.999   \n",
       "\n",
       "   BCUT (#100)  ...  smr_VSA10  smr_VSA2  smr_VSA3   smr_VSA4   smr_VSA5  \\\n",
       "0          0.0  ...   5.969305       0.0  0.000000  23.168709  95.995469   \n",
       "1          0.0  ...   0.000000       0.0  0.000000   0.000000  26.186202   \n",
       "2          0.0  ...   0.000000       0.0  0.000000   0.000000  26.186202   \n",
       "3          0.0  ...  16.972176       0.0  0.000000   0.000000   0.000000   \n",
       "4          0.0  ...  16.872230       0.0  9.883888  17.753718  37.829094   \n",
       "\n",
       "    smr_VSA6   smr_VSA7  smr_VSA8   smr_VSA9  Activity  \n",
       "0   0.000000  29.326004       0.0   5.749512         0  \n",
       "1   0.000000  23.762553       0.0  11.499024         1  \n",
       "2   0.000000  23.762553       0.0  11.499024         1  \n",
       "3  33.090598  95.601392       0.0   0.000000         1  \n",
       "4  20.199310  35.522848       0.0   0.000000         1  \n",
       "\n",
       "[5 rows x 1608 columns]"
      ]
     },
     "execution_count": 6,
     "metadata": {},
     "output_type": "execute_result"
    }
   ],
   "source": [
    "dataset = pd.read_csv(\"{}/csv/nr-ahr.csv\".format(DATASET_DIR))\n",
    "features = dataset.columns.tolist()\n",
    "target = \"Activity\"\n",
    "dataset.head()"
   ]
  },
  {
   "cell_type": "code",
   "execution_count": 7,
   "metadata": {},
   "outputs": [
    {
     "name": "stdout",
     "output_type": "stream",
     "text": [
      "<class 'pandas.core.frame.DataFrame'>\n",
      "RangeIndex: 1900 entries, 0 to 1899\n",
      "Columns: 1608 entries, ALogP (#1) to Activity\n",
      "dtypes: float64(483), int64(1125)\n",
      "memory usage: 23.3 MB\n"
     ]
    }
   ],
   "source": [
    "dataset.info()"
   ]
  },
  {
   "cell_type": "code",
   "execution_count": 8,
   "metadata": {},
   "outputs": [
    {
     "data": {
      "text/plain": [
       "ALogP (#1)               True\n",
       "ALogP (#2)               True\n",
       "ALogP (#3)               True\n",
       "AMW                     False\n",
       "Aromatic Atoms Count    False\n",
       "                        ...  \n",
       "smr_VSA6                False\n",
       "smr_VSA7                False\n",
       "smr_VSA8                False\n",
       "smr_VSA9                False\n",
       "Activity                False\n",
       "Length: 1608, dtype: bool"
      ]
     },
     "execution_count": 8,
     "metadata": {},
     "output_type": "execute_result"
    }
   ],
   "source": [
    "dataset.isna().any()"
   ]
  },
  {
   "cell_type": "code",
   "execution_count": 9,
   "metadata": {},
   "outputs": [
    {
     "name": "stdout",
     "output_type": "stream",
     "text": [
      "(1900, 1608)\n",
      "(1882, 1608)\n"
     ]
    }
   ],
   "source": [
    "from statsmodels.stats.outliers_influence import variance_inflation_factor\n",
    "import re\n",
    "\n",
    "\n",
    "print(dataset.shape)\n",
    "dataset.dropna(inplace=True)\n",
    "print(dataset.shape)\n",
    "\n",
    "X = dataset[dataset.columns.difference([target])]\n",
    "y = dataset[target]\n",
    "pattern = re.compile(\"BCUT|PubChem\")\n",
    "cols_bcut_pubchem = [x for x in X.columns.tolist() if not pattern.match(x) is None]\n",
    "#print(len(cols_bcut_pubchem))\n",
    "#X_mini = X[X.columns.difference(cols_bcut_pubchem)]\n",
    "#print(X_mini.shape)\n",
    "\n",
    "\n",
    "ahr_corr = X.corr()"
   ]
  },
  {
   "cell_type": "code",
   "execution_count": 10,
   "metadata": {},
   "outputs": [
    {
     "data": {
      "text/plain": [
       "array([('ALogP (#1)', 'ALogP (#1)'), ('ALogP (#2)', 'ALogP (#2)'),\n",
       "       ('ALogP (#3)', 'ALogP (#3)'), ('ALogP (#3)', 'AMW'),\n",
       "       ('ALogP (#3)', 'Atomic Polarizabilities'),\n",
       "       ('ALogP (#3)', 'Bond Count'),\n",
       "       ('ALogP (#3)', 'Bond Polarizabilities'), ('ALogP (#3)', 'Chi0v'),\n",
       "       ('ALogP (#3)', 'Chi1n'), ('ALogP (#3)', 'Chi1v')], dtype=object)"
      ]
     },
     "execution_count": 10,
     "metadata": {},
     "output_type": "execute_result"
    }
   ],
   "source": [
    "ahr_corr_pairs = ahr_corr.where(ahr_corr>=0.8).stack().index.values\n",
    "ahr_corr_pairs[:10]\n",
    "# ahr_corr_high.where(ahr_corr_high>=0.8).stack().index.values"
   ]
  },
  {
   "cell_type": "code",
   "execution_count": 11,
   "metadata": {},
   "outputs": [],
   "source": [
    "# ## The versions 1.4.1 and older cause the following error: ImportError: cannot import name 'ABCIndexClass' from 'pandas.core.dtypes.generic' \n",
    "# ## (/home/jovyan/anaconda3/envs/chemkube/lib/python3.9/site-packages/pandas/core/dtypes/generic.py)\n",
    "# ## Pandas v1.3 renamed the ABCIndexClass to ABCIndex. The visions dependency of the pandas-profiling package hasn't caught \n",
    "# ## up yet, and so throws an error when it can't find ABCIndexClass. Downgrading pandas to the 1.2.x series will resolve the issue.\n",
    "# # 1. Edit the file \"~/[your_conda_env_path]/lib/site-packages/visions/dtypes/boolean.py\"\n",
    "# # 2. Find the row \"from pandas.core.dtypes.generic import ABCIndexClass, ABCSeries\" and just replace ABCIndexClass for ABCIndex.\n",
    "# # 3. Save the boolean.py file and enjoy your report!\n",
    "\n",
    "# from pandas_profiling import ProfileReport\n",
    "# profileReport = ProfileReport(X_mini)\n",
    "# rejected_features = list(profileReport.get_rejected_variables())\n",
    "# print(rejected_features)"
   ]
  },
  {
   "cell_type": "code",
   "execution_count": 12,
   "metadata": {},
   "outputs": [],
   "source": [
    "# vif_threshold = 10\n",
    "# vif = pd.DataFrame()\n",
    "# vif[\"VIF Factor\"] = [variance_inflation_factor(X_mini.values, i) for i in range(X_mini.shape[1])]\n",
    "# vif[\"features\"] = X_mini.columns.tolist()\n",
    "# features_to_remove = vif[vif[\"VIF Factor\"]>vif_threshold][\"features\"].values.tolist()\n",
    "# print(\"There are {} features with a VIF greater than {}.\".format(len(features_to_remove),vif_threshold))\n",
    "# vif[vif[\"VIF Factor\"]>vif_threshold]\n",
    "# \";  \".join(features_to_remove)"
   ]
  },
  {
   "cell_type": "code",
   "execution_count": 13,
   "metadata": {},
   "outputs": [],
   "source": [
    "# ! pip install streamlit-pandas-profiling"
   ]
  },
  {
   "cell_type": "code",
   "execution_count": 14,
   "metadata": {},
   "outputs": [],
   "source": [
    "# import streamlit as st\n",
    "# from streamlit_pandas_profiling import st_profile_report\n",
    "# pr = X_mini.profile_report()"
   ]
  },
  {
   "cell_type": "markdown",
   "metadata": {},
   "source": [
    "## 1. Univariate feature selection"
   ]
  },
  {
   "cell_type": "code",
   "execution_count": 15,
   "metadata": {},
   "outputs": [],
   "source": [
    "from sklearn.feature_selection import SelectKBest, SelectPercentile, f_classif\n",
    "\n",
    "# n_best_features = 160\n",
    "# X_best = SelectKBest(f_classif, k=n_best_features).fit(X_train, y_train)\n",
    "# mask = X_best.get_support() #list of booleans for selected features\n",
    "# new_feat = [] \n",
    "# for bool, feature in zip(mask, X.columns):\n",
    "#  if bool:\n",
    "#      new_feat.append(feature)\n",
    "# print('The {} best features are:{}'.format(n_best_features, new_feat))"
   ]
  },
  {
   "cell_type": "code",
   "execution_count": 16,
   "metadata": {},
   "outputs": [
    {
     "name": "stdout",
     "output_type": "stream",
     "text": [
      "The 81 best features are:['ALogP (#1)', 'Aromatic Atoms Count', 'Aromatic Bonds Count', 'FractionCSP3', 'Largest Chain', 'Largest Pi Chain', 'MACCS_11', 'MACCS_2', 'MACCS_22', 'MACCS_23', 'MACCS_32', 'MACCS_34', 'MACCS_4', 'MACCS_42', 'MACCS_5', 'MACCS_66', 'MQN17', 'MQN36', 'NumAromaticCarbocycles', 'NumAromaticRings', 'PubChem_198', 'PubChem_202', 'PubChem_203', 'PubChem_204', 'PubChem_213', 'PubChem_216', 'PubChem_217', 'PubChem_221', 'PubChem_224', 'PubChem_241', 'PubChem_247', 'PubChem_248', 'PubChem_263', 'PubChem_273', 'PubChem_274', 'PubChem_278', 'PubChem_281', 'PubChem_282', 'PubChem_286', 'PubChem_289', 'PubChem_296', 'PubChem_297', 'PubChem_303', 'PubChem_311', 'PubChem_317', 'PubChem_325', 'PubChem_329', 'PubChem_332', 'PubChem_335', 'PubChem_336', 'PubChem_357', 'PubChem_361', 'PubChem_365', 'PubChem_379', 'PubChem_386', 'PubChem_391', 'PubChem_411', 'PubChem_417', 'PubChem_432', 'PubChem_435', 'PubChem_440', 'PubChem_444', 'PubChem_447', 'PubChem_465', 'PubChem_497', 'PubChem_504', 'PubChem_505', 'PubChem_510', 'PubChem_511', 'PubChem_526', 'PubChem_541', 'PubChem_624', 'PubChem_626', 'PubChem_696', 'PubChem_702', 'PubChem_703', 'SP3 Character', 'slogp_VSA6', 'slogp_VSA8', 'smr_VSA5', 'smr_VSA7']\n"
     ]
    },
    {
     "name": "stderr",
     "output_type": "stream",
     "text": [
      "/home/jovyan/anaconda3/envs/chemkube/lib/python3.9/site-packages/sklearn/feature_selection/_univariate_selection.py:112: UserWarning: Features [ 304  305  306  308  309  310  311  312  313  314  315  316  317  319\n",
      "  320  321  322  323  324  325  326  327  328  330  331  332  333  334\n",
      "  335  336  429  456  466  484  491  493  494  497  498  499  500  501\n",
      "  502  503  504  605  628  676  677  688  691  699  731  737  740  743\n",
      "  776  787  810  821  843  848  854  865  876  887  899  910  921  932\n",
      "  943  954  961  975  976 1009 1030 1071 1073 1097 1109 1120 1182 1183\n",
      " 1184 1185 1186 1188 1189 1190 1191 1192 1193 1194 1197 1199 1200 1203\n",
      " 1204 1208 1215 1216 1222 1223 1224 1230 1231 1233 1234 1235 1236 1237\n",
      " 1238 1239 1240 1241 1242 1244 1245 1246 1247 1248 1249 1250 1251 1252\n",
      " 1262 1263 1264 1266 1267 1268 1269 1270 1271 1272 1273 1274 1275 1277\n",
      " 1278 1279 1280 1281 1282 1283 1284 1289 1290 1293 1294 1295 1296 1297\n",
      " 1299 1300 1308 1310 1311 1313 1316 1317 1318 1321 1324 1325 1326 1342\n",
      " 1348 1349 1350 1351 1352 1353 1356 1357 1358 1361 1363 1364 1366 1386\n",
      " 1388 1389 1391 1392 1396 1402 1403 1404 1407 1410 1411 1412 1417 1418\n",
      " 1419 1421 1422 1423 1424 1425 1426 1427 1428 1429 1430 1432 1433 1434\n",
      " 1435 1436 1437 1438 1439 1440 1441 1443 1444 1445 1446 1447 1448 1449\n",
      " 1450 1451 1452 1453 1455 1456 1457 1458 1459 1460 1461 1462 1463 1464\n",
      " 1466 1467 1468 1469 1470 1471 1472 1473 1474 1475 1477 1478 1479 1480\n",
      " 1481 1482 1483 1484 1485 1486 1488 1489 1490 1497 1499 1504 1508 1514\n",
      " 1515 1520 1535 1536 1537 1538 1539 1548 1551 1596 1605] are constant.\n",
      "  warnings.warn(\"Features %s are constant.\" % constant_features_idx, UserWarning)\n",
      "/home/jovyan/anaconda3/envs/chemkube/lib/python3.9/site-packages/sklearn/feature_selection/_univariate_selection.py:113: RuntimeWarning: invalid value encountered in true_divide\n",
      "  f = msb / msw\n"
     ]
    }
   ],
   "source": [
    "percentile = 5\n",
    "f_best = SelectPercentile(f_classif, percentile = percentile).fit(X, y)\n",
    "mask = f_best.get_support() #list of booleans for selected features\n",
    "n_best_features = [] \n",
    "for bool, feature in zip(mask, X.columns):\n",
    " if bool:\n",
    "     n_best_features.append(feature)\n",
    "print('The {} best features are:{}'.format(len(n_best_features), n_best_features))"
   ]
  },
  {
   "cell_type": "code",
   "execution_count": 17,
   "metadata": {},
   "outputs": [],
   "source": [
    "X_best = X[n_best_features]\n",
    "X_train, X_test, y_train, y_test = train_test_split(X_best, y, test_size=0.3, random_state=42)"
   ]
  },
  {
   "cell_type": "code",
   "execution_count": 18,
   "metadata": {},
   "outputs": [
    {
     "data": {
      "text/plain": [
       "{'bootstrap': True,\n",
       " 'ccp_alpha': 0.0,\n",
       " 'class_weight': 'balanced',\n",
       " 'criterion': 'gini',\n",
       " 'max_features': 'auto',\n",
       " 'min_impurity_decrease': 0.0,\n",
       " 'n_estimators': 200}"
      ]
     },
     "execution_count": 18,
     "metadata": {},
     "output_type": "execute_result"
    }
   ],
   "source": [
    "## Random Forest\n",
    "from sklearn.ensemble import RandomForestClassifier\n",
    "scoring = {\"Accuracy\": \"accuracy\", \"F1-score\": \"f1_weighted\"}\n",
    "kfold=3\n",
    "param_grid_rf = {\n",
    "    'n_estimators': [100, 200, 300]\n",
    "    , 'bootstrap': [True]\n",
    "    , 'max_features': [\"auto\"]\n",
    "    , \"criterion\": [\"gini\"]\n",
    "    , \"min_impurity_decrease\": [0.0, 0.1]\n",
    "    , \"class_weight\" : [\"balanced\"]\n",
    "    , \"ccp_alpha\": [0.0, 0.1]\n",
    "#     , 'scoring': list(scoring.values())\n",
    "    }\n",
    "ahr_rfc = RandomForestClassifier(random_state=42)\n",
    "CV_rfc = GridSearchCV(estimator=ahr_rfc, param_grid=param_grid_rf, cv= kfold)\n",
    "CV_rfc.fit(X_train, y_train)\n",
    "CV_rfc.best_params_"
   ]
  },
  {
   "cell_type": "code",
   "execution_count": 19,
   "metadata": {},
   "outputs": [
    {
     "data": {
      "text/plain": [
       "0.7957479119210328"
      ]
     },
     "execution_count": 19,
     "metadata": {},
     "output_type": "execute_result"
    }
   ],
   "source": [
    "CV_rfc.best_score_"
   ]
  },
  {
   "cell_type": "code",
   "execution_count": 20,
   "metadata": {},
   "outputs": [
    {
     "data": {
      "text/plain": [
       "81"
      ]
     },
     "execution_count": 20,
     "metadata": {},
     "output_type": "execute_result"
    }
   ],
   "source": [
    "len(CV_rfc.best_estimator_.feature_names_in_)"
   ]
  },
  {
   "cell_type": "markdown",
   "metadata": {},
   "source": [
    "## 2. Recursive feature elimination (RFE)\n",
    "\n",
    "https://machinelearningmastery.com/rfe-feature-selection-in-python/"
   ]
  },
  {
   "cell_type": "code",
   "execution_count": null,
   "metadata": {},
   "outputs": [],
   "source": [
    "from sklearn.feature_selection import RFE\n",
    "\n",
    "n_features = 81\n",
    "estimator = RandomForestClassifier(random_state = 42)\n",
    "selector = RFE(estimator, n_features_to_select=n_features, step=1)\n",
    "selector = selector.fit(X, y)\n",
    "rfe_mask = selector.get_support() #list of booleans for selected features\n",
    "rfe_features = [] \n",
    "for bool, feature in zip(rfe_mask, X.columns):\n",
    "    if bool:\n",
    "        rfe_features.append(feature)\n",
    "rfe_features"
   ]
  },
  {
   "cell_type": "code",
   "execution_count": null,
   "metadata": {},
   "outputs": [],
   "source": [
    "from matplotlib import pyplot\n",
    "print('Optimal number of features :', selector.n_features_)\n",
    "print('Best features :', rfe_features)\n",
    "n_features = X.shape[1]\n",
    "pyplot.figure(figsize=(16,50))\n",
    "pyplot.barh(range(n_features), estimator.feature_importances_, align='center') \n",
    "pyplot.yticks(np.arange(n_features), X.columns.values) \n",
    "pyplot.xlabel('Feature importance')\n",
    "pyplot.ylabel('Feature')\n",
    "pyplot.show()"
   ]
  },
  {
   "cell_type": "markdown",
   "metadata": {},
   "source": [
    "## 3. Recursive feature elimination with cross-validation (RFECV)"
   ]
  },
  {
   "cell_type": "code",
   "execution_count": null,
   "metadata": {},
   "outputs": [],
   "source": [
    "from sklearn.feature_selection import RFECV\n",
    "cv_estimator = RandomForestClassifier(random_state =42)\n",
    "\n",
    "cv_estimator.fit(X_train, y_train)\n",
    "cv_selector = RFECV(cv_estimator,cv= 5, step=1,scoring='accuracy')\n",
    "cv_selector = cv_selector.fit(X_train, y_train)\n",
    "rfecv_mask  = cv_selector.get_support() #list of booleans\n",
    "rfecv_features = [] \n",
    "for bool, feature in zip(rfecv_mask, X.columns):\n",
    "    if bool:\n",
    "         rfecv_features.append(feature)"
   ]
  },
  {
   "cell_type": "code",
   "execution_count": null,
   "metadata": {},
   "outputs": [],
   "source": [
    "from matplotlib import pyplot\n",
    "print('Optimal number of features :', cv_selector.n_features_)\n",
    "print('Best features :', rfecv_features)\n",
    "n_features = X_train.shape[1]\n",
    "pyplot.figure(figsize=(16,50))\n",
    "pyplot.barh(range(n_features), cv_estimator.feature_importances_, align='center') \n",
    "pyplot.yticks(np.arange(n_features), X_train.columns.values) \n",
    "pyplot.xlabel('Feature importance')\n",
    "pyplot.ylabel('Feature')\n",
    "pyplot.show()"
   ]
  },
  {
   "cell_type": "code",
   "execution_count": null,
   "metadata": {},
   "outputs": [],
   "source": [
    "# https://machinelearningmastery.com/rfe-feature-selection-in-python/\n",
    "    \n",
    "# Really good tutorial. Select the N most features where N is pre-defined or must be estimated"
   ]
  }
 ],
 "metadata": {
  "kernelspec": {
   "display_name": "chemkube",
   "language": "python",
   "name": "chemkube"
  },
  "language_info": {
   "codemirror_mode": {
    "name": "ipython",
    "version": 3
   },
   "file_extension": ".py",
   "mimetype": "text/x-python",
   "name": "python",
   "nbconvert_exporter": "python",
   "pygments_lexer": "ipython3",
   "version": "3.9.10"
  }
 },
 "nbformat": 4,
 "nbformat_minor": 4
}
