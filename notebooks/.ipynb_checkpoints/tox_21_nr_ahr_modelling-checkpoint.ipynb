{
 "cells": [
  {
   "cell_type": "code",
   "execution_count": 39,
   "metadata": {},
   "outputs": [],
   "source": [
    "# https://medium.com/analytics-vidhya/feature-selection-using-scikit-learn-5b4362e0c19b\n",
    "# https://towardsdatascience.com/rank-the-features-now-rank-again-4dafd8cde3c8"
   ]
  },
  {
   "cell_type": "code",
   "execution_count": 40,
   "metadata": {},
   "outputs": [
    {
     "data": {
      "text/plain": [
       "'../datasets'"
      ]
     },
     "execution_count": 40,
     "metadata": {},
     "output_type": "execute_result"
    }
   ],
   "source": [
    "ROOT_DIR = \"..\"\n",
    "DATASET_DIR = \"{}/datasets\".format(ROOT_DIR)\n",
    "DATASET_DIR"
   ]
  },
  {
   "cell_type": "code",
   "execution_count": 41,
   "metadata": {},
   "outputs": [],
   "source": [
    "### Use LightGBM\n",
    "\n",
    "# ### Using ML/DL libraries\n",
    "# 1. OpenChem\n",
    "# 2. ChemProp\n",
    "# 3. DeepChem"
   ]
  },
  {
   "cell_type": "code",
   "execution_count": 197,
   "metadata": {},
   "outputs": [],
   "source": [
    "import os\n",
    "import sys\n",
    "ROOT_DIR = os.pardir\n",
    "sys.path.insert(0, os.path.abspath(ROOT_DIR))\n",
    "from matplotlib import pyplot\n",
    "import numpy as np\n",
    "import pandas as pd\n",
    "from pprint import pprint\n",
    "import re\n",
    "\n",
    "from scipy import stats\n",
    "import seaborn as sns\n",
    "from sklearn.compose import ColumnTransformer\n",
    "from sklearn.decomposition import PCA\n",
    "from sklearn.ensemble import RandomForestClassifier\n",
    "from sklearn.metrics import f1_score\n",
    "from sklearn.model_selection import train_test_split, GridSearchCV, RandomizedSearchCV\n",
    "from sklearn.pipeline import Pipeline, FeatureUnion\n",
    "from sklearn.preprocessing import StandardScaler, FunctionTransformer, scale\n",
    "\n",
    "\n",
    "\n",
    "from statsmodels.stats.outliers_influence import variance_inflation_factor\n",
    "\n",
    "\n",
    "# Display pipelines and other objects\n",
    "from sklearn import set_config\n",
    "set_config(display=\"diagram\")"
   ]
  },
  {
   "cell_type": "code",
   "execution_count": 166,
   "metadata": {},
   "outputs": [],
   "source": [
    "def detect_outlier_z_scores(df):\n",
    "  \"\"\"\n",
    "  To perform outlier detection, we are going to employ the Z-Score method because it is the simplest one.\n",
    "  This s a slight modification of the code from the following link\n",
    "  https://www.kaggle.com/alexandrehsd/binary-multiclass-classification-factor-analysis/notebookSS\n",
    "  \"\"\"\n",
    "  flag_outlier = False\n",
    "\n",
    "  for feature in df:\n",
    "    #print(feature)\n",
    "    column = df[feature]\n",
    "    mean = np.mean(column)\n",
    "    std = np.std(column)\n",
    "    z_scores = (column - mean) / std\n",
    "    outliers = np.abs(z_scores) > 3\n",
    "    \n",
    "    n_outliers = sum(outliers)\n",
    "    \n",
    "    if n_outliers > 0:\n",
    "      print(\"{} has {} outliers\".format(feature, n_outliers))\n",
    "      flag_outlier = True\n",
    "\n",
    "  if not flag_outlier:\n",
    "    print(\"\\nThe dataset has no outliers.\")\n",
    "    \n",
    "    return None\n",
    "\n",
    "def remove_outliers_by_z_score(df:pd.DataFrame, threshold:int = 3):\n",
    "    ## Find outliers for all features\n",
    "    z = np.abs(stats.zscore(df))\n",
    "    outliers = np.where(z > threshold)\n",
    "    columns = df.columns.tolist()\n",
    "    cols_with_outliers = [columns[i] for i in \n",
    "                         set(outliers[1].tolist())]\n",
    "    \n",
    "    print(\"Features with outliers ({}) : {}\".format(len(cols_with_outliers), cols_with_outliers))\n",
    "    print(outliers[0].size)\n",
    "    \n",
    "    ## Remove outliers\n",
    "    print(\"\\nRemoving {} rows...\".format(  len(set(outliers[0].tolist()))   ))\n",
    "    print(np.where(z <= threshold)[0].size)\n",
    "    new_df = df[(z <= threshold).all(axis=1)]\n",
    "    print(new_df.shape)\n",
    "    return new_df\n",
    "\n",
    "\n",
    "\n"
   ]
  },
  {
   "cell_type": "code",
   "execution_count": 170,
   "metadata": {},
   "outputs": [],
   "source": [
    "# #https://stackoverflow.com/questions/37685412/avoid-scaling-binary-columns-in-sci-kit-learn-standsardscaler\n",
    "\n",
    "# transformer_pipeline = Pipeline(steps=[\n",
    "#     ('feature_processing', FeatureUnion(transformer_list = [\n",
    "#          ( 'no_transformation',\n",
    "#               Pipeline(steps = [\n",
    "#                  ('bcut_maccs_pubchem', FunctionTransformer(lambda data: data.loc[:, cols_bcut_maccs_pubchem + [target]]))\n",
    "#               ])),\n",
    "              \n",
    "        \n",
    "#         #numeric to transform\n",
    "#         ('numeric', Pipeline(steps = [\n",
    "#             ('select', FunctionTransformer(lambda data: data.loc[:, cols_to_transform])),\n",
    "#             ('scale', StandardScaler())\n",
    "#                     ]))        \n",
    "#     ])  \n",
    "#     )\n",
    "# ])\n",
    "\n",
    "# transformer_pipeline"
   ]
  },
  {
   "cell_type": "code",
   "execution_count": 171,
   "metadata": {},
   "outputs": [
    {
     "data": {
      "text/html": [
       "<div>\n",
       "<style scoped>\n",
       "    .dataframe tbody tr th:only-of-type {\n",
       "        vertical-align: middle;\n",
       "    }\n",
       "\n",
       "    .dataframe tbody tr th {\n",
       "        vertical-align: top;\n",
       "    }\n",
       "\n",
       "    .dataframe thead th {\n",
       "        text-align: right;\n",
       "    }\n",
       "</style>\n",
       "<table border=\"1\" class=\"dataframe\">\n",
       "  <thead>\n",
       "    <tr style=\"text-align: right;\">\n",
       "      <th></th>\n",
       "      <th>MACCS_1</th>\n",
       "      <th>MACCS_10</th>\n",
       "      <th>MACCS_100</th>\n",
       "      <th>MACCS_101</th>\n",
       "      <th>MACCS_102</th>\n",
       "      <th>MACCS_103</th>\n",
       "      <th>MACCS_104</th>\n",
       "      <th>MACCS_105</th>\n",
       "      <th>MACCS_106</th>\n",
       "      <th>MACCS_107</th>\n",
       "      <th>...</th>\n",
       "      <th>MACCS_90</th>\n",
       "      <th>MACCS_91</th>\n",
       "      <th>MACCS_92</th>\n",
       "      <th>MACCS_93</th>\n",
       "      <th>MACCS_94</th>\n",
       "      <th>MACCS_95</th>\n",
       "      <th>MACCS_96</th>\n",
       "      <th>MACCS_97</th>\n",
       "      <th>MACCS_98</th>\n",
       "      <th>MACCS_99</th>\n",
       "    </tr>\n",
       "  </thead>\n",
       "  <tbody>\n",
       "    <tr>\n",
       "      <th>0</th>\n",
       "      <td>0</td>\n",
       "      <td>1</td>\n",
       "      <td>0</td>\n",
       "      <td>1</td>\n",
       "      <td>0</td>\n",
       "      <td>0</td>\n",
       "      <td>0</td>\n",
       "      <td>0</td>\n",
       "      <td>0</td>\n",
       "      <td>0</td>\n",
       "      <td>...</td>\n",
       "      <td>0</td>\n",
       "      <td>0</td>\n",
       "      <td>0</td>\n",
       "      <td>0</td>\n",
       "      <td>0</td>\n",
       "      <td>0</td>\n",
       "      <td>0</td>\n",
       "      <td>0</td>\n",
       "      <td>0</td>\n",
       "      <td>0</td>\n",
       "    </tr>\n",
       "    <tr>\n",
       "      <th>1</th>\n",
       "      <td>0</td>\n",
       "      <td>1</td>\n",
       "      <td>0</td>\n",
       "      <td>1</td>\n",
       "      <td>0</td>\n",
       "      <td>0</td>\n",
       "      <td>0</td>\n",
       "      <td>0</td>\n",
       "      <td>0</td>\n",
       "      <td>0</td>\n",
       "      <td>...</td>\n",
       "      <td>0</td>\n",
       "      <td>0</td>\n",
       "      <td>0</td>\n",
       "      <td>1</td>\n",
       "      <td>0</td>\n",
       "      <td>0</td>\n",
       "      <td>0</td>\n",
       "      <td>0</td>\n",
       "      <td>0</td>\n",
       "      <td>0</td>\n",
       "    </tr>\n",
       "    <tr>\n",
       "      <th>2</th>\n",
       "      <td>0</td>\n",
       "      <td>1</td>\n",
       "      <td>0</td>\n",
       "      <td>1</td>\n",
       "      <td>0</td>\n",
       "      <td>0</td>\n",
       "      <td>0</td>\n",
       "      <td>0</td>\n",
       "      <td>0</td>\n",
       "      <td>0</td>\n",
       "      <td>...</td>\n",
       "      <td>0</td>\n",
       "      <td>0</td>\n",
       "      <td>0</td>\n",
       "      <td>1</td>\n",
       "      <td>0</td>\n",
       "      <td>0</td>\n",
       "      <td>0</td>\n",
       "      <td>0</td>\n",
       "      <td>0</td>\n",
       "      <td>0</td>\n",
       "    </tr>\n",
       "    <tr>\n",
       "      <th>3</th>\n",
       "      <td>0</td>\n",
       "      <td>0</td>\n",
       "      <td>0</td>\n",
       "      <td>0</td>\n",
       "      <td>0</td>\n",
       "      <td>0</td>\n",
       "      <td>0</td>\n",
       "      <td>0</td>\n",
       "      <td>0</td>\n",
       "      <td>0</td>\n",
       "      <td>...</td>\n",
       "      <td>0</td>\n",
       "      <td>1</td>\n",
       "      <td>0</td>\n",
       "      <td>1</td>\n",
       "      <td>0</td>\n",
       "      <td>0</td>\n",
       "      <td>0</td>\n",
       "      <td>0</td>\n",
       "      <td>0</td>\n",
       "      <td>0</td>\n",
       "    </tr>\n",
       "    <tr>\n",
       "      <th>4</th>\n",
       "      <td>0</td>\n",
       "      <td>1</td>\n",
       "      <td>0</td>\n",
       "      <td>0</td>\n",
       "      <td>1</td>\n",
       "      <td>0</td>\n",
       "      <td>0</td>\n",
       "      <td>0</td>\n",
       "      <td>0</td>\n",
       "      <td>0</td>\n",
       "      <td>...</td>\n",
       "      <td>0</td>\n",
       "      <td>0</td>\n",
       "      <td>0</td>\n",
       "      <td>0</td>\n",
       "      <td>0</td>\n",
       "      <td>0</td>\n",
       "      <td>0</td>\n",
       "      <td>0</td>\n",
       "      <td>0</td>\n",
       "      <td>0</td>\n",
       "    </tr>\n",
       "    <tr>\n",
       "      <th>...</th>\n",
       "      <td>...</td>\n",
       "      <td>...</td>\n",
       "      <td>...</td>\n",
       "      <td>...</td>\n",
       "      <td>...</td>\n",
       "      <td>...</td>\n",
       "      <td>...</td>\n",
       "      <td>...</td>\n",
       "      <td>...</td>\n",
       "      <td>...</td>\n",
       "      <td>...</td>\n",
       "      <td>...</td>\n",
       "      <td>...</td>\n",
       "      <td>...</td>\n",
       "      <td>...</td>\n",
       "      <td>...</td>\n",
       "      <td>...</td>\n",
       "      <td>...</td>\n",
       "      <td>...</td>\n",
       "      <td>...</td>\n",
       "      <td>...</td>\n",
       "    </tr>\n",
       "    <tr>\n",
       "      <th>1877</th>\n",
       "      <td>0</td>\n",
       "      <td>1</td>\n",
       "      <td>0</td>\n",
       "      <td>0</td>\n",
       "      <td>0</td>\n",
       "      <td>0</td>\n",
       "      <td>0</td>\n",
       "      <td>0</td>\n",
       "      <td>0</td>\n",
       "      <td>0</td>\n",
       "      <td>...</td>\n",
       "      <td>0</td>\n",
       "      <td>0</td>\n",
       "      <td>0</td>\n",
       "      <td>0</td>\n",
       "      <td>0</td>\n",
       "      <td>0</td>\n",
       "      <td>0</td>\n",
       "      <td>0</td>\n",
       "      <td>0</td>\n",
       "      <td>0</td>\n",
       "    </tr>\n",
       "    <tr>\n",
       "      <th>1878</th>\n",
       "      <td>0</td>\n",
       "      <td>0</td>\n",
       "      <td>0</td>\n",
       "      <td>0</td>\n",
       "      <td>0</td>\n",
       "      <td>0</td>\n",
       "      <td>0</td>\n",
       "      <td>0</td>\n",
       "      <td>0</td>\n",
       "      <td>0</td>\n",
       "      <td>...</td>\n",
       "      <td>1</td>\n",
       "      <td>0</td>\n",
       "      <td>0</td>\n",
       "      <td>0</td>\n",
       "      <td>0</td>\n",
       "      <td>0</td>\n",
       "      <td>0</td>\n",
       "      <td>0</td>\n",
       "      <td>0</td>\n",
       "      <td>0</td>\n",
       "    </tr>\n",
       "    <tr>\n",
       "      <th>1879</th>\n",
       "      <td>0</td>\n",
       "      <td>0</td>\n",
       "      <td>0</td>\n",
       "      <td>0</td>\n",
       "      <td>0</td>\n",
       "      <td>0</td>\n",
       "      <td>0</td>\n",
       "      <td>0</td>\n",
       "      <td>0</td>\n",
       "      <td>0</td>\n",
       "      <td>...</td>\n",
       "      <td>1</td>\n",
       "      <td>0</td>\n",
       "      <td>0</td>\n",
       "      <td>0</td>\n",
       "      <td>1</td>\n",
       "      <td>0</td>\n",
       "      <td>0</td>\n",
       "      <td>0</td>\n",
       "      <td>0</td>\n",
       "      <td>0</td>\n",
       "    </tr>\n",
       "    <tr>\n",
       "      <th>1880</th>\n",
       "      <td>0</td>\n",
       "      <td>1</td>\n",
       "      <td>0</td>\n",
       "      <td>0</td>\n",
       "      <td>0</td>\n",
       "      <td>0</td>\n",
       "      <td>0</td>\n",
       "      <td>0</td>\n",
       "      <td>0</td>\n",
       "      <td>0</td>\n",
       "      <td>...</td>\n",
       "      <td>0</td>\n",
       "      <td>0</td>\n",
       "      <td>0</td>\n",
       "      <td>0</td>\n",
       "      <td>0</td>\n",
       "      <td>0</td>\n",
       "      <td>0</td>\n",
       "      <td>0</td>\n",
       "      <td>0</td>\n",
       "      <td>0</td>\n",
       "    </tr>\n",
       "    <tr>\n",
       "      <th>1881</th>\n",
       "      <td>0</td>\n",
       "      <td>1</td>\n",
       "      <td>0</td>\n",
       "      <td>0</td>\n",
       "      <td>0</td>\n",
       "      <td>0</td>\n",
       "      <td>0</td>\n",
       "      <td>0</td>\n",
       "      <td>0</td>\n",
       "      <td>0</td>\n",
       "      <td>...</td>\n",
       "      <td>0</td>\n",
       "      <td>0</td>\n",
       "      <td>0</td>\n",
       "      <td>0</td>\n",
       "      <td>0</td>\n",
       "      <td>0</td>\n",
       "      <td>0</td>\n",
       "      <td>0</td>\n",
       "      <td>0</td>\n",
       "      <td>0</td>\n",
       "    </tr>\n",
       "  </tbody>\n",
       "</table>\n",
       "<p>1882 rows × 167 columns</p>\n",
       "</div>"
      ],
      "text/plain": [
       "      MACCS_1  MACCS_10  MACCS_100  MACCS_101  MACCS_102  MACCS_103  \\\n",
       "0           0         1          0          1          0          0   \n",
       "1           0         1          0          1          0          0   \n",
       "2           0         1          0          1          0          0   \n",
       "3           0         0          0          0          0          0   \n",
       "4           0         1          0          0          1          0   \n",
       "...       ...       ...        ...        ...        ...        ...   \n",
       "1877        0         1          0          0          0          0   \n",
       "1878        0         0          0          0          0          0   \n",
       "1879        0         0          0          0          0          0   \n",
       "1880        0         1          0          0          0          0   \n",
       "1881        0         1          0          0          0          0   \n",
       "\n",
       "      MACCS_104  MACCS_105  MACCS_106  MACCS_107  ...  MACCS_90  MACCS_91  \\\n",
       "0             0          0          0          0  ...         0         0   \n",
       "1             0          0          0          0  ...         0         0   \n",
       "2             0          0          0          0  ...         0         0   \n",
       "3             0          0          0          0  ...         0         1   \n",
       "4             0          0          0          0  ...         0         0   \n",
       "...         ...        ...        ...        ...  ...       ...       ...   \n",
       "1877          0          0          0          0  ...         0         0   \n",
       "1878          0          0          0          0  ...         1         0   \n",
       "1879          0          0          0          0  ...         1         0   \n",
       "1880          0          0          0          0  ...         0         0   \n",
       "1881          0          0          0          0  ...         0         0   \n",
       "\n",
       "      MACCS_92  MACCS_93  MACCS_94  MACCS_95  MACCS_96  MACCS_97  MACCS_98  \\\n",
       "0            0         0         0         0         0         0         0   \n",
       "1            0         1         0         0         0         0         0   \n",
       "2            0         1         0         0         0         0         0   \n",
       "3            0         1         0         0         0         0         0   \n",
       "4            0         0         0         0         0         0         0   \n",
       "...        ...       ...       ...       ...       ...       ...       ...   \n",
       "1877         0         0         0         0         0         0         0   \n",
       "1878         0         0         0         0         0         0         0   \n",
       "1879         0         0         1         0         0         0         0   \n",
       "1880         0         0         0         0         0         0         0   \n",
       "1881         0         0         0         0         0         0         0   \n",
       "\n",
       "      MACCS_99  \n",
       "0            0  \n",
       "1            0  \n",
       "2            0  \n",
       "3            0  \n",
       "4            0  \n",
       "...        ...  \n",
       "1877         0  \n",
       "1878         0  \n",
       "1879         0  \n",
       "1880         0  \n",
       "1881         0  \n",
       "\n",
       "[1882 rows x 167 columns]"
      ]
     },
     "execution_count": 171,
     "metadata": {},
     "output_type": "execute_result"
    }
   ],
   "source": [
    "dataset = pd.read_csv(\"{}/csv/nr-ahr.csv\".format(DATASET_DIR))\n",
    "features = dataset.columns.tolist()\n",
    "target = \"Activity\"\n",
    "\n",
    "pattern = re.compile(\"MACCS\")\n",
    "cols_bcut_maccs_pubchem = [x for x in dataset.columns.tolist() if not pattern.match(x) is None]\n",
    "cols_to_transform = [y for y in features if not y in cols_bcut_maccs_pubchem]\n",
    "cols_to_transform.remove(target)\n",
    "\n",
    "dataset.dropna(inplace=True)\n",
    "dataset = dataset.reset_index()\n",
    "\n",
    "dataset[cols_to_transform] = scale(dataset[cols_to_transform])\n",
    "dataset[cols_bcut_maccs_pubchem]\n",
    "\n",
    "\n",
    "\n",
    "# dataset.iloc[:,1400:1500].info()"
   ]
  },
  {
   "cell_type": "markdown",
   "metadata": {},
   "source": [
    "## Split Data"
   ]
  },
  {
   "cell_type": "code",
   "execution_count": 172,
   "metadata": {},
   "outputs": [],
   "source": [
    "from sklearn.model_selection import StratifiedShuffleSplit"
   ]
  },
  {
   "cell_type": "code",
   "execution_count": 173,
   "metadata": {},
   "outputs": [
    {
     "name": "stdout",
     "output_type": "stream",
     "text": [
      "1505\n",
      "377\n"
     ]
    }
   ],
   "source": [
    "strat_train_set, strat_test_set = None, None\n",
    "splitter = StratifiedShuffleSplit(n_splits=1, test_size=0.2, random_state=42)\n",
    "\n",
    "for train_index, test_index in splitter.split(dataset, dataset[target]):\n",
    "    strat_train_set = dataset.loc[train_index]\n",
    "    strat_test_set  = dataset.loc[text_index]\n",
    "    print(len(train_index))\n",
    "    print(len(test_index))\n",
    "\n",
    "# strat_train_set.head()\n",
    "X_train = strat_train_set[strat_train_set.columns.difference([target])]\n",
    "y_train = strat_train_set[target]\n",
    "X_test, y_test   = strat_test_set[strat_test_set.columns.difference([target])], strat_test_set[target]\n",
    "\n",
    "# print(\"strat_train_set : \\n{}\".format(strat_train_set[target].value_counts()/len(strat_train_set)))\n",
    "# print(\"strat_test_set  : \\n{}\".format(strat_test_set[target].value_counts()/len(strat_test_set)))"
   ]
  },
  {
   "cell_type": "markdown",
   "metadata": {},
   "source": [
    "## Training with Random Forest\n",
    "### Grid search "
   ]
  },
  {
   "cell_type": "code",
   "execution_count": 203,
   "metadata": {},
   "outputs": [],
   "source": [
    "kfold = 3\n",
    "random_state=42 \n",
    "# scoring = {'f1': 'f1_weighted', 'jaccard':'jaccard'} #, 'accuracy': 'accuracy'\n",
    "scoring = ['f1_weighted']\n",
    "params_grid_rf = {  'bootstrap': [True]\n",
    "                  , 'max_depth': [5, 10, 30, None]\n",
    "                  , 'criterion': ['gini'] # , 'entropy'\n",
    "                  , 'max_features': ['auto']\n",
    "                  , 'min_samples_split': [5]\n",
    "                  , 'n_estimators': [150, 250, 300, 400]\n",
    "#                   , 'min_impurity_decrease': [0.0, 0.1]\n",
    "                 }\n",
    "\n",
    "params_grid_svm = {\n",
    "    'kernel': ['linear', 'sigmoid']\n",
    "    , 'class_weight': ['None', 'balance']\n",
    "}"
   ]
  },
  {
   "cell_type": "code",
   "execution_count": 204,
   "metadata": {},
   "outputs": [
    {
     "data": {
      "text/html": [
       "<style>#sk-006d11b6-0170-4153-a82d-050dc55fb940 {color: black;background-color: white;}#sk-006d11b6-0170-4153-a82d-050dc55fb940 pre{padding: 0;}#sk-006d11b6-0170-4153-a82d-050dc55fb940 div.sk-toggleable {background-color: white;}#sk-006d11b6-0170-4153-a82d-050dc55fb940 label.sk-toggleable__label {cursor: pointer;display: block;width: 100%;margin-bottom: 0;padding: 0.3em;box-sizing: border-box;text-align: center;}#sk-006d11b6-0170-4153-a82d-050dc55fb940 label.sk-toggleable__label-arrow:before {content: \"▸\";float: left;margin-right: 0.25em;color: #696969;}#sk-006d11b6-0170-4153-a82d-050dc55fb940 label.sk-toggleable__label-arrow:hover:before {color: black;}#sk-006d11b6-0170-4153-a82d-050dc55fb940 div.sk-estimator:hover label.sk-toggleable__label-arrow:before {color: black;}#sk-006d11b6-0170-4153-a82d-050dc55fb940 div.sk-toggleable__content {max-height: 0;max-width: 0;overflow: hidden;text-align: left;background-color: #f0f8ff;}#sk-006d11b6-0170-4153-a82d-050dc55fb940 div.sk-toggleable__content pre {margin: 0.2em;color: black;border-radius: 0.25em;background-color: #f0f8ff;}#sk-006d11b6-0170-4153-a82d-050dc55fb940 input.sk-toggleable__control:checked~div.sk-toggleable__content {max-height: 200px;max-width: 100%;overflow: auto;}#sk-006d11b6-0170-4153-a82d-050dc55fb940 input.sk-toggleable__control:checked~label.sk-toggleable__label-arrow:before {content: \"▾\";}#sk-006d11b6-0170-4153-a82d-050dc55fb940 div.sk-estimator input.sk-toggleable__control:checked~label.sk-toggleable__label {background-color: #d4ebff;}#sk-006d11b6-0170-4153-a82d-050dc55fb940 div.sk-label input.sk-toggleable__control:checked~label.sk-toggleable__label {background-color: #d4ebff;}#sk-006d11b6-0170-4153-a82d-050dc55fb940 input.sk-hidden--visually {border: 0;clip: rect(1px 1px 1px 1px);clip: rect(1px, 1px, 1px, 1px);height: 1px;margin: -1px;overflow: hidden;padding: 0;position: absolute;width: 1px;}#sk-006d11b6-0170-4153-a82d-050dc55fb940 div.sk-estimator {font-family: monospace;background-color: #f0f8ff;border: 1px dotted black;border-radius: 0.25em;box-sizing: border-box;margin-bottom: 0.5em;}#sk-006d11b6-0170-4153-a82d-050dc55fb940 div.sk-estimator:hover {background-color: #d4ebff;}#sk-006d11b6-0170-4153-a82d-050dc55fb940 div.sk-parallel-item::after {content: \"\";width: 100%;border-bottom: 1px solid gray;flex-grow: 1;}#sk-006d11b6-0170-4153-a82d-050dc55fb940 div.sk-label:hover label.sk-toggleable__label {background-color: #d4ebff;}#sk-006d11b6-0170-4153-a82d-050dc55fb940 div.sk-serial::before {content: \"\";position: absolute;border-left: 1px solid gray;box-sizing: border-box;top: 2em;bottom: 0;left: 50%;}#sk-006d11b6-0170-4153-a82d-050dc55fb940 div.sk-serial {display: flex;flex-direction: column;align-items: center;background-color: white;padding-right: 0.2em;padding-left: 0.2em;}#sk-006d11b6-0170-4153-a82d-050dc55fb940 div.sk-item {z-index: 1;}#sk-006d11b6-0170-4153-a82d-050dc55fb940 div.sk-parallel {display: flex;align-items: stretch;justify-content: center;background-color: white;}#sk-006d11b6-0170-4153-a82d-050dc55fb940 div.sk-parallel::before {content: \"\";position: absolute;border-left: 1px solid gray;box-sizing: border-box;top: 2em;bottom: 0;left: 50%;}#sk-006d11b6-0170-4153-a82d-050dc55fb940 div.sk-parallel-item {display: flex;flex-direction: column;position: relative;background-color: white;}#sk-006d11b6-0170-4153-a82d-050dc55fb940 div.sk-parallel-item:first-child::after {align-self: flex-end;width: 50%;}#sk-006d11b6-0170-4153-a82d-050dc55fb940 div.sk-parallel-item:last-child::after {align-self: flex-start;width: 50%;}#sk-006d11b6-0170-4153-a82d-050dc55fb940 div.sk-parallel-item:only-child::after {width: 0;}#sk-006d11b6-0170-4153-a82d-050dc55fb940 div.sk-dashed-wrapped {border: 1px dashed gray;margin: 0 0.4em 0.5em 0.4em;box-sizing: border-box;padding-bottom: 0.4em;background-color: white;position: relative;}#sk-006d11b6-0170-4153-a82d-050dc55fb940 div.sk-label label {font-family: monospace;font-weight: bold;background-color: white;display: inline-block;line-height: 1.2em;}#sk-006d11b6-0170-4153-a82d-050dc55fb940 div.sk-label-container {position: relative;z-index: 2;text-align: center;}#sk-006d11b6-0170-4153-a82d-050dc55fb940 div.sk-container {/* jupyter's `normalize.less` sets `[hidden] { display: none; }` but bootstrap.min.css set `[hidden] { display: none !important; }` so we also need the `!important` here to be able to override the default hidden behavior on the sphinx rendered scikit-learn.org. See: https://github.com/scikit-learn/scikit-learn/issues/21755 */display: inline-block !important;position: relative;}#sk-006d11b6-0170-4153-a82d-050dc55fb940 div.sk-text-repr-fallback {display: none;}</style><div id=\"sk-006d11b6-0170-4153-a82d-050dc55fb940\" class=\"sk-top-container\"><div class=\"sk-text-repr-fallback\"><pre>GridSearchCV(cv=3, estimator=RandomForestClassifier(random_state=42), n_jobs=1,\n",
       "             param_grid={&#x27;bootstrap&#x27;: [True], &#x27;criterion&#x27;: [&#x27;gini&#x27;],\n",
       "                         &#x27;max_depth&#x27;: [5, 10, 30, None],\n",
       "                         &#x27;max_features&#x27;: [&#x27;auto&#x27;], &#x27;min_samples_split&#x27;: [5],\n",
       "                         &#x27;n_estimators&#x27;: [150, 250, 300, 400]},\n",
       "             return_train_score=True, scoring=&#x27;f1_weighted&#x27;)</pre><b>Please rerun this cell to show the HTML repr or trust the notebook.</b></div><div class=\"sk-container\" hidden><div class=\"sk-item sk-dashed-wrapped\"><div class=\"sk-label-container\"><div class=\"sk-label sk-toggleable\"><input class=\"sk-toggleable__control sk-hidden--visually\" id=\"9f302ae8-f53f-4256-93f9-40a10f5a9e6c\" type=\"checkbox\" ><label for=\"9f302ae8-f53f-4256-93f9-40a10f5a9e6c\" class=\"sk-toggleable__label sk-toggleable__label-arrow\">GridSearchCV</label><div class=\"sk-toggleable__content\"><pre>GridSearchCV(cv=3, estimator=RandomForestClassifier(random_state=42), n_jobs=1,\n",
       "             param_grid={&#x27;bootstrap&#x27;: [True], &#x27;criterion&#x27;: [&#x27;gini&#x27;],\n",
       "                         &#x27;max_depth&#x27;: [5, 10, 30, None],\n",
       "                         &#x27;max_features&#x27;: [&#x27;auto&#x27;], &#x27;min_samples_split&#x27;: [5],\n",
       "                         &#x27;n_estimators&#x27;: [150, 250, 300, 400]},\n",
       "             return_train_score=True, scoring=&#x27;f1_weighted&#x27;)</pre></div></div></div><div class=\"sk-parallel\"><div class=\"sk-parallel-item\"><div class=\"sk-item\"><div class=\"sk-serial\"><div class=\"sk-item\"><div class=\"sk-estimator sk-toggleable\"><input class=\"sk-toggleable__control sk-hidden--visually\" id=\"9ffb44b4-25d7-4880-8851-5494b271fe66\" type=\"checkbox\" ><label for=\"9ffb44b4-25d7-4880-8851-5494b271fe66\" class=\"sk-toggleable__label sk-toggleable__label-arrow\">RandomForestClassifier</label><div class=\"sk-toggleable__content\"><pre>RandomForestClassifier(random_state=42)</pre></div></div></div></div></div></div></div></div></div></div>"
      ],
      "text/plain": [
       "GridSearchCV(cv=3, estimator=RandomForestClassifier(random_state=42), n_jobs=1,\n",
       "             param_grid={'bootstrap': [True], 'criterion': ['gini'],\n",
       "                         'max_depth': [5, 10, 30, None],\n",
       "                         'max_features': ['auto'], 'min_samples_split': [5],\n",
       "                         'n_estimators': [150, 250, 300, 400]},\n",
       "             return_train_score=True, scoring='f1_weighted')"
      ]
     },
     "execution_count": 204,
     "metadata": {},
     "output_type": "execute_result"
    }
   ],
   "source": [
    "rfc = RandomForestClassifier(random_state=random_state)\n",
    "grid_searcher = GridSearchCV(estimator = rfc, param_grid = params_grid_rf, cv = kfold, n_jobs = 1, verbose = 0, scoring = 'f1_weighted', return_train_score=True)\n",
    "grid_searcher.fit(X_train, y_train)"
   ]
  },
  {
   "cell_type": "code",
   "execution_count": 205,
   "metadata": {},
   "outputs": [
    {
     "name": "stdout",
     "output_type": "stream",
     "text": [
      "Best RF pamateters: {'bootstrap': True, 'criterion': 'gini', 'max_depth': 30, 'max_features': 'auto', 'min_samples_split': 5, 'n_estimators': 400}\n",
      "Best RF score: 0.8129433933928446\n"
     ]
    }
   ],
   "source": [
    "print(\"Best RF pamateters: {}\".format(grid_searcher.best_params_))\n",
    "print(\"Best RF score: {}\".format(grid_searcher.best_score_))"
   ]
  },
  {
   "cell_type": "code",
   "execution_count": 207,
   "metadata": {},
   "outputs": [],
   "source": [
    "best_rf_1 = grid_searcher.best_estimator_"
   ]
  },
  {
   "cell_type": "code",
   "execution_count": 208,
   "metadata": {},
   "outputs": [
    {
     "name": "stdout",
     "output_type": "stream",
     "text": [
      "Best RF test score (F1-weigthed): 0.8250002390195895\n"
     ]
    }
   ],
   "source": [
    "print(\"Best RF test score (F1-weigthed): {}\".format(f1_score(best_rf_1.predict(X_test), y_test , average='weighted' )))"
   ]
  },
  {
   "cell_type": "markdown",
   "metadata": {},
   "source": [
    "### Randomized search "
   ]
  },
  {
   "cell_type": "code",
   "execution_count": 209,
   "metadata": {},
   "outputs": [],
   "source": [
    "n_estimators = [int(x) for x in np.linspace(start = 10, stop = 400, num = 5)]\n",
    "max_depth    = [int(x) for x in np.linspace(10, 110, num = 11)]\n",
    "\n",
    "params_random_rf = {  'bootstrap': [True]\n",
    "                  , 'max_depth': max_depth + [None]\n",
    "                  , 'criterion': ['gini'] # , 'entropy'\n",
    "                  , 'max_features': ['auto']\n",
    "                  , 'min_samples_split': [5]\n",
    "                  , 'n_estimators': n_estimators\n",
    "#                   , 'min_impurity_decrease': [0.0, 0.1]\n",
    "                  , \n",
    "                 }"
   ]
  },
  {
   "cell_type": "code",
   "execution_count": null,
   "metadata": {},
   "outputs": [
    {
     "name": "stdout",
     "output_type": "stream",
     "text": [
      "Fitting 3 folds for each of 16 candidates, totalling 48 fits\n"
     ]
    }
   ],
   "source": [
    "random_searcher = rf_random = RandomizedSearchCV(estimator = rfc, param_distributions = params_random_rf, n_iter = 16, cv = kfold, verbose=2, random_state=random_state, n_jobs = -1)\n",
    "random_searcher.fit(X_train, y_train)"
   ]
  },
  {
   "cell_type": "code",
   "execution_count": null,
   "metadata": {},
   "outputs": [],
   "source": [
    "best_rf_random = random_searcher.best_estimator_\n",
    "print(\"Best RF pamateters: {}\".format(random_searcher.best_params_))\n",
    "print(\"Best RF score: {}\".format(random_searcher.best_score_))\n",
    "print(\"Best RF test score (F1-weigthed): {}\".format(f1_score(best_rf_random.predict(X_test), y_test , average='weighted' )))\n",
    "random_searcher.scorer_"
   ]
  },
  {
   "cell_type": "markdown",
   "metadata": {},
   "source": [
    "## Model explanation\n",
    "# https://www.kaggle.com/code/prashant111/explain-your-model-predictions-with-shapley-values/notebook\n",
    "# https://onezero.blog/machine-learning-model-explanation-using-shapley-values/\n",
    "# https://www.datatrigger.org/post/interpretable_machine_learning_shap/\n",
    "# https://shap.readthedocs.io/en/latest/example_notebooks/overviews/An%20introduction%20to%20explainable%20AI%20with%20Shapley%20values.html\n",
    "# https://medium.com/analytics-vidhya/interpretability-of-machine-learning-models-9787cf8a3789\n",
    "# https://shap.readthedocs.io/en/latest/index.html"
   ]
  },
  {
   "cell_type": "code",
   "execution_count": 14,
   "metadata": {},
   "outputs": [],
   "source": []
  },
  {
   "cell_type": "markdown",
   "metadata": {},
   "source": [
    "## 1. Univariate feature selection"
   ]
  },
  {
   "cell_type": "code",
   "execution_count": 15,
   "metadata": {},
   "outputs": [],
   "source": [
    "from sklearn.feature_selection import SelectKBest, SelectPercentile, f_classif\n",
    "\n",
    "# n_best_features = 160\n",
    "# X_best = SelectKBest(f_classif, k=n_best_features).fit(X_train, y_train)\n",
    "# mask = X_best.get_support() #list of booleans for selected features\n",
    "# new_feat = [] \n",
    "# for bool, feature in zip(mask, X.columns):\n",
    "#  if bool:\n",
    "#      new_feat.append(feature)\n",
    "# print('The {} best features are:{}'.format(n_best_features, new_feat))"
   ]
  },
  {
   "cell_type": "code",
   "execution_count": 16,
   "metadata": {},
   "outputs": [
    {
     "name": "stdout",
     "output_type": "stream",
     "text": [
      "The 81 best features are:['ALogP (#1)', 'Aromatic Atoms Count', 'Aromatic Bonds Count', 'FractionCSP3', 'Largest Chain', 'Largest Pi Chain', 'MACCS_11', 'MACCS_2', 'MACCS_22', 'MACCS_23', 'MACCS_32', 'MACCS_34', 'MACCS_4', 'MACCS_42', 'MACCS_5', 'MACCS_66', 'MQN17', 'MQN36', 'NumAromaticCarbocycles', 'NumAromaticRings', 'PubChem_198', 'PubChem_202', 'PubChem_203', 'PubChem_204', 'PubChem_213', 'PubChem_216', 'PubChem_217', 'PubChem_221', 'PubChem_224', 'PubChem_241', 'PubChem_247', 'PubChem_248', 'PubChem_263', 'PubChem_273', 'PubChem_274', 'PubChem_278', 'PubChem_281', 'PubChem_282', 'PubChem_286', 'PubChem_289', 'PubChem_296', 'PubChem_297', 'PubChem_303', 'PubChem_311', 'PubChem_317', 'PubChem_325', 'PubChem_329', 'PubChem_332', 'PubChem_335', 'PubChem_336', 'PubChem_357', 'PubChem_361', 'PubChem_365', 'PubChem_379', 'PubChem_386', 'PubChem_391', 'PubChem_411', 'PubChem_417', 'PubChem_432', 'PubChem_435', 'PubChem_440', 'PubChem_444', 'PubChem_447', 'PubChem_465', 'PubChem_497', 'PubChem_504', 'PubChem_505', 'PubChem_510', 'PubChem_511', 'PubChem_526', 'PubChem_541', 'PubChem_624', 'PubChem_626', 'PubChem_696', 'PubChem_702', 'PubChem_703', 'SP3 Character', 'slogp_VSA6', 'slogp_VSA8', 'smr_VSA5', 'smr_VSA7']\n"
     ]
    },
    {
     "name": "stderr",
     "output_type": "stream",
     "text": [
      "/home/jovyan/anaconda3/envs/chemkube/lib/python3.9/site-packages/sklearn/feature_selection/_univariate_selection.py:112: UserWarning: Features [ 304  305  306  308  309  310  311  312  313  314  315  316  317  319\n",
      "  320  321  322  323  324  325  326  327  328  330  331  332  333  334\n",
      "  335  336  429  456  466  484  491  493  494  497  498  499  500  501\n",
      "  502  503  504  605  628  676  677  688  691  699  731  737  740  743\n",
      "  776  787  810  821  843  848  854  865  876  887  899  910  921  932\n",
      "  943  954  961  975  976 1009 1030 1071 1073 1097 1109 1120 1182 1183\n",
      " 1184 1185 1186 1188 1189 1190 1191 1192 1193 1194 1197 1199 1200 1203\n",
      " 1204 1208 1215 1216 1222 1223 1224 1230 1231 1233 1234 1235 1236 1237\n",
      " 1238 1239 1240 1241 1242 1244 1245 1246 1247 1248 1249 1250 1251 1252\n",
      " 1262 1263 1264 1266 1267 1268 1269 1270 1271 1272 1273 1274 1275 1277\n",
      " 1278 1279 1280 1281 1282 1283 1284 1289 1290 1293 1294 1295 1296 1297\n",
      " 1299 1300 1308 1310 1311 1313 1316 1317 1318 1321 1324 1325 1326 1342\n",
      " 1348 1349 1350 1351 1352 1353 1356 1357 1358 1361 1363 1364 1366 1386\n",
      " 1388 1389 1391 1392 1396 1402 1403 1404 1407 1410 1411 1412 1417 1418\n",
      " 1419 1421 1422 1423 1424 1425 1426 1427 1428 1429 1430 1432 1433 1434\n",
      " 1435 1436 1437 1438 1439 1440 1441 1443 1444 1445 1446 1447 1448 1449\n",
      " 1450 1451 1452 1453 1455 1456 1457 1458 1459 1460 1461 1462 1463 1464\n",
      " 1466 1467 1468 1469 1470 1471 1472 1473 1474 1475 1477 1478 1479 1480\n",
      " 1481 1482 1483 1484 1485 1486 1488 1489 1490 1497 1499 1504 1508 1514\n",
      " 1515 1520 1535 1536 1537 1538 1539 1548 1551 1596 1605] are constant.\n",
      "  warnings.warn(\"Features %s are constant.\" % constant_features_idx, UserWarning)\n",
      "/home/jovyan/anaconda3/envs/chemkube/lib/python3.9/site-packages/sklearn/feature_selection/_univariate_selection.py:113: RuntimeWarning: invalid value encountered in true_divide\n",
      "  f = msb / msw\n"
     ]
    }
   ],
   "source": [
    "percentile = 5\n",
    "f_best = SelectPercentile(f_classif, percentile = percentile).fit(X, y)\n",
    "mask = f_best.get_support() #list of booleans for selected features\n",
    "n_best_features = [] \n",
    "for bool, feature in zip(mask, X.columns):\n",
    " if bool:\n",
    "     n_best_features.append(feature)\n",
    "print('The {} best features are:{}'.format(len(n_best_features), n_best_features))"
   ]
  },
  {
   "cell_type": "code",
   "execution_count": 17,
   "metadata": {},
   "outputs": [],
   "source": [
    "X_best = X[n_best_features]\n",
    "X_train, X_test, y_train, y_test = train_test_split(X_best, y, test_size=0.3, random_state=42)"
   ]
  },
  {
   "cell_type": "code",
   "execution_count": 18,
   "metadata": {},
   "outputs": [
    {
     "data": {
      "text/plain": [
       "{'bootstrap': True,\n",
       " 'ccp_alpha': 0.0,\n",
       " 'class_weight': 'balanced',\n",
       " 'criterion': 'gini',\n",
       " 'max_features': 'auto',\n",
       " 'min_impurity_decrease': 0.0,\n",
       " 'n_estimators': 200}"
      ]
     },
     "execution_count": 18,
     "metadata": {},
     "output_type": "execute_result"
    }
   ],
   "source": [
    "## Random Forest\n",
    "from sklearn.ensemble import RandomForestClassifier\n",
    "scoring = {\"Accuracy\": \"accuracy\", \"F1-score\": \"f1_weighted\"}\n",
    "kfold=3\n",
    "param_grid_rf = {\n",
    "    'n_estimators': [100, 200, 300]\n",
    "    , 'bootstrap': [True]\n",
    "    , 'max_features': [\"auto\"]\n",
    "    , \"criterion\": [\"gini\"]\n",
    "    , \"min_impurity_decrease\": [0.0, 0.1]\n",
    "    , \"class_weight\" : [\"balanced\"]\n",
    "    , \"ccp_alpha\": [0.0, 0.1]\n",
    "#     , 'scoring': list(scoring.values())\n",
    "    }\n",
    "ahr_rfc = RandomForestClassifier(random_state=42)\n",
    "CV_rfc = GridSearchCV(estimator=ahr_rfc, param_grid=param_grid_rf, cv= kfold)\n",
    "CV_rfc.fit(X_train, y_train)\n",
    "CV_rfc.best_params_"
   ]
  },
  {
   "cell_type": "code",
   "execution_count": 19,
   "metadata": {},
   "outputs": [
    {
     "data": {
      "text/plain": [
       "0.7957479119210328"
      ]
     },
     "execution_count": 19,
     "metadata": {},
     "output_type": "execute_result"
    }
   ],
   "source": [
    "CV_rfc.best_score_"
   ]
  },
  {
   "cell_type": "code",
   "execution_count": 20,
   "metadata": {},
   "outputs": [
    {
     "data": {
      "text/plain": [
       "81"
      ]
     },
     "execution_count": 20,
     "metadata": {},
     "output_type": "execute_result"
    }
   ],
   "source": [
    "len(CV_rfc.best_estimator_.feature_names_in_)"
   ]
  },
  {
   "cell_type": "markdown",
   "metadata": {},
   "source": [
    "## 2. Recursive feature elimination (RFE)\n",
    "\n",
    "https://machinelearningmastery.com/rfe-feature-selection-in-python/"
   ]
  },
  {
   "cell_type": "code",
   "execution_count": null,
   "metadata": {},
   "outputs": [],
   "source": [
    "from sklearn.feature_selection import RFE\n",
    "\n",
    "n_features = 81\n",
    "estimator = RandomForestClassifier(random_state = 42)\n",
    "selector = RFE(estimator, n_features_to_select=n_features, step=1)\n",
    "selector = selector.fit(X, y)\n",
    "rfe_mask = selector.get_support() #list of booleans for selected features\n",
    "rfe_features = [] \n",
    "for bool, feature in zip(rfe_mask, X.columns):\n",
    "    if bool:\n",
    "        rfe_features.append(feature)\n",
    "rfe_features"
   ]
  },
  {
   "cell_type": "code",
   "execution_count": null,
   "metadata": {},
   "outputs": [],
   "source": [
    "from matplotlib import pyplot\n",
    "print('Optimal number of features :', selector.n_features_)\n",
    "print('Best features :', rfe_features)\n",
    "n_features = X.shape[1]\n",
    "pyplot.figure(figsize=(16,50))\n",
    "pyplot.barh(range(n_features), estimator.feature_importances_, align='center') \n",
    "pyplot.yticks(np.arange(n_features), X.columns.values) \n",
    "pyplot.xlabel('Feature importance')\n",
    "pyplot.ylabel('Feature')\n",
    "pyplot.show()"
   ]
  },
  {
   "cell_type": "markdown",
   "metadata": {},
   "source": [
    "## 3. Recursive feature elimination with cross-validation (RFECV)"
   ]
  },
  {
   "cell_type": "code",
   "execution_count": null,
   "metadata": {},
   "outputs": [],
   "source": [
    "from sklearn.feature_selection import RFECV\n",
    "cv_estimator = RandomForestClassifier(random_state =42)\n",
    "\n",
    "cv_estimator.fit(X_train, y_train)\n",
    "cv_selector = RFECV(cv_estimator,cv= 5, step=1,scoring='accuracy')\n",
    "cv_selector = cv_selector.fit(X_train, y_train)\n",
    "rfecv_mask  = cv_selector.get_support() #list of booleans\n",
    "rfecv_features = [] \n",
    "for bool, feature in zip(rfecv_mask, X.columns):\n",
    "    if bool:\n",
    "         rfecv_features.append(feature)"
   ]
  },
  {
   "cell_type": "code",
   "execution_count": null,
   "metadata": {},
   "outputs": [],
   "source": [
    "from matplotlib import pyplot\n",
    "print('Optimal number of features :', cv_selector.n_features_)\n",
    "print('Best features :', rfecv_features)\n",
    "n_features = X_train.shape[1]\n",
    "pyplot.figure(figsize=(16,50))\n",
    "pyplot.barh(range(n_features), cv_estimator.feature_importances_, align='center') \n",
    "pyplot.yticks(np.arange(n_features), X_train.columns.values) \n",
    "pyplot.xlabel('Feature importance')\n",
    "pyplot.ylabel('Feature')\n",
    "pyplot.show()"
   ]
  },
  {
   "cell_type": "code",
   "execution_count": null,
   "metadata": {},
   "outputs": [],
   "source": [
    "# https://machinelearningmastery.com/rfe-feature-selection-in-python/\n",
    "    \n",
    "# Really good tutorial. Select the N most features where N is pre-defined or must be estimated"
   ]
  }
 ],
 "metadata": {
  "kernelspec": {
   "display_name": "chemkube",
   "language": "python",
   "name": "chemkube"
  },
  "language_info": {
   "codemirror_mode": {
    "name": "ipython",
    "version": 3
   },
   "file_extension": ".py",
   "mimetype": "text/x-python",
   "name": "python",
   "nbconvert_exporter": "python",
   "pygments_lexer": "ipython3",
   "version": "3.9.10"
  }
 },
 "nbformat": 4,
 "nbformat_minor": 4
}
